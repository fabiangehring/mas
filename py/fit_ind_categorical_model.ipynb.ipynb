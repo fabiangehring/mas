{
 "cells": [
  {
   "cell_type": "code",
   "execution_count": 1,
   "metadata": {},
   "outputs": [
    {
     "name": "stderr",
     "output_type": "stream",
     "text": [
      "Using TensorFlow backend.\n"
     ]
    }
   ],
   "source": [
    "import pandas as pd\n",
    "import feather\n",
    "\n",
    "from keras.models import Sequential\n",
    "from keras.layers import Dense\n",
    "from keras.utils.np_utils import to_categorical\n"
   ]
  },
  {
   "cell_type": "code",
   "execution_count": 2,
   "metadata": {},
   "outputs": [],
   "source": [
    "n_groups_per_col = 30\n",
    "ind_categorical_data_train = pd.read_feather(\"../data/ind_categorical_data_train.feather\")\n",
    "ind_categorical_labels_train = pd.read_feather(\"../data/ind_categorical_labels_train.feather\")"
   ]
  },
  {
   "cell_type": "code",
   "execution_count": 3,
   "metadata": {},
   "outputs": [],
   "source": [
    "train_data = ind_categorical_data_train.to_numpy()"
   ]
  },
  {
   "cell_type": "code",
   "execution_count": 4,
   "metadata": {},
   "outputs": [],
   "source": [
    "def fit_ind_categorical_model(train_data, train_labels):\n",
    "    \n",
    "    model = Sequential()\n",
    "    model.add(Dense(units=512, activation='relu', input_shape=(train_data.shape[1],)))\n",
    "    model.add(Dense(units=512, activation='relu'))\n",
    "    model.add(Dense(n_groups_per_col, activation='softmax'))\n",
    "    \n",
    "    model.compile(loss='categorical_crossentropy', optimizer='adam', metrics=['accuracy'])\n",
    "\n",
    "    history = model.fit(train_data, train_labels, validation_split=0.2, batch_size=512, epochs=20, verbose=1)\n",
    "    \n",
    "    return (history, model)"
   ]
  },
  {
   "cell_type": "code",
   "execution_count": 5,
   "metadata": {
    "scrolled": true
   },
   "outputs": [
    {
     "name": "stdout",
     "output_type": "stream",
     "text": [
      "Train on 4342137 samples, validate on 1085535 samples\n",
      "Epoch 1/20\n",
      "4342137/4342137 [==============================] - 32s 7us/step - loss: 3.2871 - accuracy: 0.0807 - val_loss: 3.1306 - val_accuracy: 0.0849\n",
      "Epoch 2/20\n",
      "4342137/4342137 [==============================] - 32s 7us/step - loss: 3.1559 - accuracy: 0.0923 - val_loss: 3.0785 - val_accuracy: 0.1083\n",
      "Epoch 3/20\n",
      "4342137/4342137 [==============================] - 33s 8us/step - loss: 3.1141 - accuracy: 0.0984 - val_loss: 3.1018 - val_accuracy: 0.0979\n",
      "Epoch 4/20\n",
      "4342137/4342137 [==============================] - 35s 8us/step - loss: 3.1264 - accuracy: 0.0954 - val_loss: 3.1301 - val_accuracy: 0.0975\n",
      "Epoch 5/20\n",
      "4342137/4342137 [==============================] - 36s 8us/step - loss: 3.1231 - accuracy: 0.0964 - val_loss: 3.2002 - val_accuracy: 0.0792\n",
      "Epoch 6/20\n",
      "4342137/4342137 [==============================] - 33s 8us/step - loss: 3.0937 - accuracy: 0.1003 - val_loss: 3.0589 - val_accuracy: 0.1070\n",
      "Epoch 7/20\n",
      "4342137/4342137 [==============================] - 36s 8us/step - loss: 3.0829 - accuracy: 0.1021 - val_loss: 3.0724 - val_accuracy: 0.0995\n",
      "Epoch 8/20\n",
      "4342137/4342137 [==============================] - 36s 8us/step - loss: 3.0825 - accuracy: 0.1021 - val_loss: 3.1391 - val_accuracy: 0.0993\n",
      "Epoch 9/20\n",
      "4342137/4342137 [==============================] - 36s 8us/step - loss: 3.1243 - accuracy: 0.0968 - val_loss: 3.0975 - val_accuracy: 0.0944\n",
      "Epoch 10/20\n",
      "4342137/4342137 [==============================] - 36s 8us/step - loss: 3.1040 - accuracy: 0.0997 - val_loss: 3.0530 - val_accuracy: 0.1060\n",
      "Epoch 11/20\n",
      "4342137/4342137 [==============================] - 36s 8us/step - loss: 3.1248 - accuracy: 0.0978 - val_loss: 3.1038 - val_accuracy: 0.1040\n",
      "Epoch 12/20\n",
      "4342137/4342137 [==============================] - 36s 8us/step - loss: 3.0755 - accuracy: 0.1030 - val_loss: 3.0982 - val_accuracy: 0.1045\n",
      "Epoch 13/20\n",
      "4342137/4342137 [==============================] - 36s 8us/step - loss: 3.0992 - accuracy: 0.0999 - val_loss: 3.0613 - val_accuracy: 0.0999\n",
      "Epoch 14/20\n",
      "4342137/4342137 [==============================] - 36s 8us/step - loss: 3.0899 - accuracy: 0.1010 - val_loss: 3.0635 - val_accuracy: 0.1109\n",
      "Epoch 15/20\n",
      "4342137/4342137 [==============================] - 37s 8us/step - loss: 3.1171 - accuracy: 0.0991 - val_loss: 3.0319 - val_accuracy: 0.1091\n",
      "Epoch 16/20\n",
      "4342137/4342137 [==============================] - 36s 8us/step - loss: 3.0891 - accuracy: 0.1008 - val_loss: 3.0419 - val_accuracy: 0.1139\n",
      "Epoch 17/20\n",
      "4342137/4342137 [==============================] - 36s 8us/step - loss: 3.1140 - accuracy: 0.0982 - val_loss: 3.1247 - val_accuracy: 0.0920\n",
      "Epoch 18/20\n",
      "4342137/4342137 [==============================] - 36s 8us/step - loss: 3.1094 - accuracy: 0.0984 - val_loss: 3.1697 - val_accuracy: 0.0930\n",
      "Epoch 19/20\n",
      "4342137/4342137 [==============================] - 36s 8us/step - loss: 3.1545 - accuracy: 0.0921 - val_loss: 3.0391 - val_accuracy: 0.1140\n",
      "Epoch 20/20\n",
      "4342137/4342137 [==============================] - 37s 8us/step - loss: 3.1223 - accuracy: 0.0963 - val_loss: 3.0298 - val_accuracy: 0.1062\n"
     ]
    }
   ],
   "source": [
    "# low\n",
    "train_label_low = to_categorical(ind_categorical_labels_train.low.to_numpy(), n_groups_per_col)\n",
    "(indipendent_categorical_low_history, indipendent_categorical_low_model) = fit_ind_categorical_model(train_data, train_label_low)\n",
    "feather.write_dataframe(pd.DataFrame.from_dict(indipendent_categorical_low_history.history), \"../data/indipendent_categorical_low_history.feather\")\n",
    "indipendent_categorical_low_model.save(\"../data/indipendent_categorical_low_model.hdf5\")\n"
   ]
  },
  {
   "cell_type": "code",
   "execution_count": 6,
   "metadata": {},
   "outputs": [
    {
     "name": "stdout",
     "output_type": "stream",
     "text": [
      "Train on 4342137 samples, validate on 1085535 samples\n",
      "Epoch 1/20\n",
      "4342137/4342137 [==============================] - 32s 7us/step - loss: 3.3066 - accuracy: 0.0788 - val_loss: 3.2053 - val_accuracy: 0.0750\n",
      "Epoch 2/20\n",
      "4342137/4342137 [==============================] - 35s 8us/step - loss: 3.1526 - accuracy: 0.0928 - val_loss: 3.1419 - val_accuracy: 0.0884\n",
      "Epoch 3/20\n",
      "4342137/4342137 [==============================] - 34s 8us/step - loss: 3.1325 - accuracy: 0.0947 - val_loss: 3.1116 - val_accuracy: 0.0909\n",
      "Epoch 4/20\n",
      "4342137/4342137 [==============================] - 32s 7us/step - loss: 3.1448 - accuracy: 0.0933 - val_loss: 3.2226 - val_accuracy: 0.0780\n",
      "Epoch 5/20\n",
      "4342137/4342137 [==============================] - 33s 8us/step - loss: 3.1506 - accuracy: 0.0931 - val_loss: 3.0978 - val_accuracy: 0.1042\n",
      "Epoch 6/20\n",
      "4342137/4342137 [==============================] - 33s 8us/step - loss: 3.1046 - accuracy: 0.0990 - val_loss: 3.0565 - val_accuracy: 0.1031\n",
      "Epoch 7/20\n",
      "4342137/4342137 [==============================] - 33s 8us/step - loss: 3.1220 - accuracy: 0.0960 - val_loss: 3.0863 - val_accuracy: 0.1087\n",
      "Epoch 8/20\n",
      "4342137/4342137 [==============================] - 35s 8us/step - loss: 3.1537 - accuracy: 0.0882 - val_loss: 3.4128 - val_accuracy: 0.0400\n",
      "Epoch 9/20\n",
      "4342137/4342137 [==============================] - 33s 8us/step - loss: 3.1735 - accuracy: 0.0898 - val_loss: 3.2455 - val_accuracy: 0.0643\n",
      "Epoch 10/20\n",
      "4342137/4342137 [==============================] - 33s 8us/step - loss: 3.0919 - accuracy: 0.0997 - val_loss: 3.0626 - val_accuracy: 0.0983\n",
      "Epoch 11/20\n",
      "4342137/4342137 [==============================] - 33s 8us/step - loss: 3.1445 - accuracy: 0.0909 - val_loss: 3.1024 - val_accuracy: 0.0871\n",
      "Epoch 12/20\n",
      "4342137/4342137 [==============================] - 33s 8us/step - loss: 3.3322 - accuracy: 0.0602 - val_loss: 3.3839 - val_accuracy: 0.0678\n",
      "Epoch 13/20\n",
      "4342137/4342137 [==============================] - 36s 8us/step - loss: 3.1362 - accuracy: 0.0953 - val_loss: 3.0467 - val_accuracy: 0.1030\n",
      "Epoch 14/20\n",
      "4342137/4342137 [==============================] - 33s 8us/step - loss: 3.0895 - accuracy: 0.0996 - val_loss: 3.7479 - val_accuracy: 0.0466\n",
      "Epoch 15/20\n",
      "4342137/4342137 [==============================] - 33s 8us/step - loss: 3.1089 - accuracy: 0.0967 - val_loss: 3.0566 - val_accuracy: 0.1100\n",
      "Epoch 16/20\n",
      "4342137/4342137 [==============================] - 33s 8us/step - loss: 3.1505 - accuracy: 0.0890 - val_loss: 3.0720 - val_accuracy: 0.0976\n",
      "Epoch 17/20\n",
      "4342137/4342137 [==============================] - 33s 8us/step - loss: 3.2839 - accuracy: 0.0682 - val_loss: 3.2019 - val_accuracy: 0.0574\n",
      "Epoch 18/20\n",
      "4342137/4342137 [==============================] - 35s 8us/step - loss: 3.2695 - accuracy: 0.0759 - val_loss: 3.0428 - val_accuracy: 0.1077\n",
      "Epoch 19/20\n",
      "4342137/4342137 [==============================] - 36s 8us/step - loss: 3.0632 - accuracy: 0.1036 - val_loss: 3.0372 - val_accuracy: 0.1058\n",
      "Epoch 20/20\n",
      "4342137/4342137 [==============================] - 36s 8us/step - loss: 3.0597 - accuracy: 0.1040 - val_loss: 3.0356 - val_accuracy: 0.1027\n"
     ]
    }
   ],
   "source": [
    "# high\n",
    "train_label_high = to_categorical(ind_categorical_labels_train.high.to_numpy(), n_groups_per_col)\n",
    "(indipendent_categorical_high_history, indipendent_categorical_high_model) = fit_ind_categorical_model(train_data, train_label_high)\n",
    "feather.write_dataframe(pd.DataFrame.from_dict(indipendent_categorical_high_history.history), \"../data/indipendent_categorical_high_history.feather\")\n",
    "indipendent_categorical_high_model.save(\"../data/indipendent_categorical_high_model.hdf5\")"
   ]
  },
  {
   "cell_type": "code",
   "execution_count": 7,
   "metadata": {},
   "outputs": [
    {
     "name": "stdout",
     "output_type": "stream",
     "text": [
      "Train on 4342137 samples, validate on 1085535 samples\n",
      "Epoch 1/20\n",
      "4342137/4342137 [==============================] - 32s 7us/step - loss: 3.3870 - accuracy: 0.0642 - val_loss: 3.2446 - val_accuracy: 0.0793\n",
      "Epoch 2/20\n",
      "4342137/4342137 [==============================] - 34s 8us/step - loss: 3.2529 - accuracy: 0.0764 - val_loss: 3.2658 - val_accuracy: 0.0725\n",
      "Epoch 3/20\n",
      "4342137/4342137 [==============================] - 33s 8us/step - loss: 3.2431 - accuracy: 0.0781 - val_loss: 3.2229 - val_accuracy: 0.0817\n",
      "Epoch 4/20\n",
      "4342137/4342137 [==============================] - 34s 8us/step - loss: 3.2412 - accuracy: 0.0783 - val_loss: 3.2321 - val_accuracy: 0.0801\n",
      "Epoch 5/20\n",
      "4342137/4342137 [==============================] - 35s 8us/step - loss: 3.2383 - accuracy: 0.0791 - val_loss: 3.2322 - val_accuracy: 0.0794\n",
      "Epoch 6/20\n",
      "4342137/4342137 [==============================] - 34s 8us/step - loss: 3.2365 - accuracy: 0.0791 - val_loss: 3.2790 - val_accuracy: 0.0697\n",
      "Epoch 7/20\n",
      "4342137/4342137 [==============================] - 35s 8us/step - loss: 3.2339 - accuracy: 0.0798 - val_loss: 3.2353 - val_accuracy: 0.0788\n",
      "Epoch 8/20\n",
      "4342137/4342137 [==============================] - 33s 8us/step - loss: 3.2328 - accuracy: 0.0798 - val_loss: 3.2235 - val_accuracy: 0.0810\n",
      "Epoch 9/20\n",
      "4342137/4342137 [==============================] - 35s 8us/step - loss: 3.2326 - accuracy: 0.0798 - val_loss: 3.2160 - val_accuracy: 0.0826\n",
      "Epoch 10/20\n",
      "4342137/4342137 [==============================] - 33s 8us/step - loss: 3.2309 - accuracy: 0.0802 - val_loss: 3.2160 - val_accuracy: 0.0824\n",
      "Epoch 11/20\n",
      "4342137/4342137 [==============================] - 35s 8us/step - loss: 3.2311 - accuracy: 0.0802 - val_loss: 3.2679 - val_accuracy: 0.0747\n",
      "Epoch 12/20\n",
      "4342137/4342137 [==============================] - 33s 7us/step - loss: 3.2291 - accuracy: 0.0805 - val_loss: 3.2185 - val_accuracy: 0.0817\n",
      "Epoch 13/20\n",
      "4342137/4342137 [==============================] - 35s 8us/step - loss: 3.2287 - accuracy: 0.0803 - val_loss: 3.2299 - val_accuracy: 0.0798\n",
      "Epoch 14/20\n",
      "4342137/4342137 [==============================] - 33s 8us/step - loss: 3.2284 - accuracy: 0.0806 - val_loss: 3.2318 - val_accuracy: 0.0797\n",
      "Epoch 15/20\n",
      "4342137/4342137 [==============================] - 35s 8us/step - loss: 3.2273 - accuracy: 0.0807 - val_loss: 3.2156 - val_accuracy: 0.0827\n",
      "Epoch 16/20\n",
      "4342137/4342137 [==============================] - 33s 8us/step - loss: 3.2270 - accuracy: 0.0808 - val_loss: 3.2279 - val_accuracy: 0.0799\n",
      "Epoch 17/20\n",
      "4342137/4342137 [==============================] - 35s 8us/step - loss: 3.2265 - accuracy: 0.0810 - val_loss: 3.2233 - val_accuracy: 0.0797\n",
      "Epoch 18/20\n",
      "4342137/4342137 [==============================] - 33s 8us/step - loss: 3.2263 - accuracy: 0.0811 - val_loss: 3.2322 - val_accuracy: 0.0793\n",
      "Epoch 19/20\n",
      "4342137/4342137 [==============================] - 35s 8us/step - loss: 3.2263 - accuracy: 0.0810 - val_loss: 3.2211 - val_accuracy: 0.0820\n",
      "Epoch 20/20\n",
      "4342137/4342137 [==============================] - 33s 8us/step - loss: 3.2252 - accuracy: 0.0812 - val_loss: 3.2153 - val_accuracy: 0.0835\n"
     ]
    }
   ],
   "source": [
    "# close\n",
    "train_label_close = to_categorical(ind_categorical_labels_train.close.to_numpy(), n_groups_per_col)\n",
    "(indipendent_categorical_close_history, indipendent_categorical_close_model) = fit_ind_categorical_model(train_data, train_label_close)\n",
    "feather.write_dataframe(pd.DataFrame.from_dict(indipendent_categorical_close_history.history), \"../data/indipendent_categorical_close_history.feather\")\n",
    "indipendent_categorical_close_model.save(\"../data/indipendent_categorical_close_model.hdf5\")"
   ]
  }
 ],
 "metadata": {
  "kernelspec": {
   "display_name": "Python 3",
   "language": "python",
   "name": "python3"
  },
  "language_info": {
   "codemirror_mode": {
    "name": "ipython",
    "version": 3
   },
   "file_extension": ".py",
   "mimetype": "text/x-python",
   "name": "python",
   "nbconvert_exporter": "python",
   "pygments_lexer": "ipython3",
   "version": "3.6.10"
  }
 },
 "nbformat": 4,
 "nbformat_minor": 4
}
