{
 "cells": [
  {
   "cell_type": "code",
   "execution_count": 1,
   "metadata": {},
   "outputs": [
    {
     "name": "stderr",
     "output_type": "stream",
     "text": [
      "Using TensorFlow backend.\n"
     ]
    }
   ],
   "source": [
    "import pandas as pd\n",
    "import feather\n",
    "\n",
    "\n",
    "from keras.models import Sequential\n",
    "from keras.layers import Dense\n",
    "from keras.utils.np_utils import to_categorical\n",
    "from keras.models import load_model\n"
   ]
  },
  {
   "cell_type": "code",
   "execution_count": 2,
   "metadata": {},
   "outputs": [],
   "source": [
    "n_groups_per_col = 9\n",
    "architecture = \"2_dense_512\"\n",
    "spread = \"spread\"\n",
    "path = \"../data/models/ind/categorical/\" + architecture +\"/\" + spread + \"/\"\n",
    "\n",
    "data_train = pd.read_feather(path + \"data_train.feather\").to_numpy()\n",
    "labels_train = pd.read_feather(path + \"labels_train.feather\")"
   ]
  },
  {
   "cell_type": "code",
   "execution_count": 8,
   "metadata": {},
   "outputs": [],
   "source": [
    "def fit_ind_categorical_model(data_train, labels_train):\n",
    "    \n",
    "    model = Sequential()\n",
    "    model.add(Dense(units=512, activation='relu', input_shape=(data_train.shape[1],)))\n",
    "    model.add(Dense(units=512, activation='relu'))\n",
    "\n",
    "\n",
    "    model.add(Dense(n_groups_per_col, activation='softmax'))\n",
    "    \n",
    "    model.compile(loss='categorical_crossentropy', optimizer='adam', metrics=['accuracy'])\n",
    "\n",
    "    history = model.fit(data_train, labels_train, validation_split=0.2, batch_size=256, epochs=3, verbose=1)\n",
    "    \n",
    "    return (history, model)"
   ]
  },
  {
   "cell_type": "code",
   "execution_count": 9,
   "metadata": {
    "scrolled": false
   },
   "outputs": [
    {
     "name": "stdout",
     "output_type": "stream",
     "text": [
      "Train on 3566135 samples, validate on 891534 samples\n",
      "Epoch 1/3\n",
      "3566135/3566135 [==============================] - 50s 14us/step - loss: 2.2875 - accuracy: 0.1158 - val_loss: 2.1974 - val_accuracy: 0.1110\n",
      "Epoch 2/3\n",
      "3566135/3566135 [==============================] - 53s 15us/step - loss: 2.1974 - accuracy: 0.1112 - val_loss: 2.1973 - val_accuracy: 0.1112\n",
      "Epoch 3/3\n",
      "3566135/3566135 [==============================] - 53s 15us/step - loss: 2.1973 - accuracy: 0.1114 - val_loss: 2.1973 - val_accuracy: 0.1114\n"
     ]
    }
   ],
   "source": [
    "# low\n",
    "labels_low_train = to_categorical(labels_train.low.to_numpy(), n_groups_per_col)\n",
    "(low_history, low_model) = fit_ind_categorical_model(data_train, labels_low_train)\n",
    "feather.write_dataframe(pd.DataFrame.from_dict(low_history.history), path + \"low_history.feather\", compression=\"uncompressed\")\n",
    "low_model.save(path + \"low_model.hdf5\")\n"
   ]
  },
  {
   "cell_type": "code",
   "execution_count": 10,
   "metadata": {},
   "outputs": [
    {
     "name": "stdout",
     "output_type": "stream",
     "text": [
      "Train on 3566135 samples, validate on 891534 samples\n",
      "Epoch 1/3\n",
      "3566135/3566135 [==============================] - 52s 15us/step - loss: 2.2771 - accuracy: 0.1207 - val_loss: 2.1968 - val_accuracy: 0.1116\n",
      "Epoch 2/3\n",
      "3566135/3566135 [==============================] - 52s 15us/step - loss: 2.1966 - accuracy: 0.1127 - val_loss: 2.1973 - val_accuracy: 0.1110\n",
      "Epoch 3/3\n",
      "3566135/3566135 [==============================] - 52s 15us/step - loss: 2.1973 - accuracy: 0.1110 - val_loss: 2.1973 - val_accuracy: 0.1108\n"
     ]
    }
   ],
   "source": [
    "# high\n",
    "labels_high_train = to_categorical(labels_train.high.to_numpy(), n_groups_per_col)\n",
    "(high_history, high_model) = fit_ind_categorical_model(data_train, labels_high_train)\n",
    "feather.write_dataframe(pd.DataFrame.from_dict(high_history.history), path + \"high_history.feather\", compression=\"uncompressed\")\n",
    "high_model.save(path + \"high_model.hdf5\")"
   ]
  },
  {
   "cell_type": "code",
   "execution_count": 11,
   "metadata": {},
   "outputs": [
    {
     "name": "stdout",
     "output_type": "stream",
     "text": [
      "Train on 3566135 samples, validate on 891534 samples\n",
      "Epoch 1/3\n",
      "3566135/3566135 [==============================] - 52s 15us/step - loss: 2.2868 - accuracy: 0.1136 - val_loss: 2.1972 - val_accuracy: 0.1111\n",
      "Epoch 2/3\n",
      "3566135/3566135 [==============================] - 57s 16us/step - loss: 2.1975 - accuracy: 0.1111 - val_loss: 2.1973 - val_accuracy: 0.1112\n",
      "Epoch 3/3\n",
      "3566135/3566135 [==============================] - 52s 15us/step - loss: 2.1973 - accuracy: 0.1113 - val_loss: 2.1973 - val_accuracy: 0.1107\n"
     ]
    }
   ],
   "source": [
    "# close\n",
    "labels_close_train = to_categorical(labels_train.close.to_numpy(), n_groups_per_col)\n",
    "(close_history, close_model) = fit_ind_categorical_model(data_train, labels_close_train)\n",
    "feather.write_dataframe(pd.DataFrame.from_dict(close_history.history), path + \"close_history.feather\", compression=\"uncompressed\")\n",
    "close_model.save(path + \"close_model.hdf5\")"
   ]
  },
  {
   "cell_type": "code",
   "execution_count": 12,
   "metadata": {},
   "outputs": [],
   "source": [
    "### Predict\n",
    "# low_model = load_model(path + \"low_model.hdf5\")\n",
    "# high_model = load_model(path + \"high_model.hdf5\")\n",
    "# close_model = load_model(path + \"close_model.hdf5\")"
   ]
  },
  {
   "cell_type": "code",
   "execution_count": 13,
   "metadata": {},
   "outputs": [],
   "source": [
    "data_test = pd.read_feather(path + \"data_test.feather\").to_numpy()\n",
    "\n",
    "low_pred_prob = low_model.predict_proba(data_test, batch_size = 256)\n",
    "feather.write_dataframe(pd.DataFrame(low_pred_prob), path + \"low_pred_prob.feather\", compression='uncompressed')\n",
    "\n",
    "high_pred_prob = high_model.predict_proba(data_test, batch_size = 256)\n",
    "feather.write_dataframe(pd.DataFrame(high_pred_prob), path + \"high_pred_prob.feather\", compression='uncompressed')\n",
    "\n",
    "close_pred_prob = close_model.predict_proba(data_test, batch_size = 256)\n",
    "feather.write_dataframe(pd.DataFrame(close_pred_prob), path + \"close_pred_prob.feather\", compression='uncompressed')\n"
   ]
  },
  {
   "cell_type": "code",
   "execution_count": null,
   "metadata": {},
   "outputs": [],
   "source": []
  }
 ],
 "metadata": {
  "kernelspec": {
   "display_name": "Python 3",
   "language": "python",
   "name": "python3"
  },
  "language_info": {
   "codemirror_mode": {
    "name": "ipython",
    "version": 3
   },
   "file_extension": ".py",
   "mimetype": "text/x-python",
   "name": "python",
   "nbconvert_exporter": "python",
   "pygments_lexer": "ipython3",
   "version": "3.6.10"
  }
 },
 "nbformat": 4,
 "nbformat_minor": 4
}
