{
 "cells": [
  {
   "cell_type": "code",
   "execution_count": 8,
   "metadata": {},
   "outputs": [],
   "source": [
    "import pandas as pd\n",
    "import feather\n",
    "\n",
    "from keras.models import Sequential\n",
    "from keras.layers import Dense\n",
    "from keras.utils.np_utils import to_categorical\n",
    "from keras.models import load_model\n",
    "\n"
   ]
  },
  {
   "cell_type": "code",
   "execution_count": 3,
   "metadata": {},
   "outputs": [],
   "source": [
    "n_groups_per_col = 30\n",
    "architecture = \"2_dense_512\"\n",
    "path = \"../data/models/ind/categorical/\" + architecture +\"/\"\n",
    "\n",
    "data_train = pd.read_feather(path + \"data_train.feather\").to_numpy()\n",
    "labels_train = pd.read_feather(path + \"labels_train.feather\")"
   ]
  },
  {
   "cell_type": "code",
   "execution_count": 4,
   "metadata": {},
   "outputs": [],
   "source": [
    "def fit_ind_categorical_model(data_train, labels_train):\n",
    "    \n",
    "    model = Sequential()\n",
    "    model.add(Dense(units=512, activation='relu', input_shape=(data_train.shape[1],)))\n",
    "    model.add(Dense(units=512, activation='relu'))\n",
    "    model.add(Dense(n_groups_per_col, activation='softmax'))\n",
    "    \n",
    "    model.compile(loss='categorical_crossentropy', optimizer='adam', metrics=['accuracy'])\n",
    "\n",
    "    history = model.fit(data_train, labels_train, validation_split=0.2, batch_size=512, epochs=20, verbose=1)\n",
    "    \n",
    "    return (history, model)"
   ]
  },
  {
   "cell_type": "code",
   "execution_count": 5,
   "metadata": {
    "scrolled": false
   },
   "outputs": [
    {
     "name": "stdout",
     "output_type": "stream",
     "text": [
      "Train on 4342137 samples, validate on 1085535 samples\n",
      "Epoch 1/20\n",
      "4342137/4342137 [==============================] - 34s 8us/step - loss: 3.2868 - accuracy: 0.0802 - val_loss: 3.1850 - val_accuracy: 0.0774\n",
      "Epoch 2/20\n",
      "4342137/4342137 [==============================] - 36s 8us/step - loss: 3.1588 - accuracy: 0.0915 - val_loss: 3.2381 - val_accuracy: 0.0712\n",
      "Epoch 3/20\n",
      "4342137/4342137 [==============================] - 33s 8us/step - loss: 3.1435 - accuracy: 0.0927 - val_loss: 3.1818 - val_accuracy: 0.0830\n",
      "Epoch 4/20\n",
      "4342137/4342137 [==============================] - 36s 8us/step - loss: 3.1060 - accuracy: 0.0983 - val_loss: 3.0728 - val_accuracy: 0.1099\n",
      "Epoch 5/20\n",
      "4342137/4342137 [==============================] - 33s 8us/step - loss: 3.0900 - accuracy: 0.1013 - val_loss: 3.0423 - val_accuracy: 0.1082\n",
      "Epoch 6/20\n",
      "4342137/4342137 [==============================] - 34s 8us/step - loss: 3.0890 - accuracy: 0.1010 - val_loss: 3.0984 - val_accuracy: 0.0941\n",
      "Epoch 7/20\n",
      "4342137/4342137 [==============================] - 34s 8us/step - loss: 3.1202 - accuracy: 0.0975 - val_loss: 3.1315 - val_accuracy: 0.1030\n",
      "Epoch 8/20\n",
      "4342137/4342137 [==============================] - 34s 8us/step - loss: 3.1004 - accuracy: 0.0992 - val_loss: 3.1701 - val_accuracy: 0.0797\n",
      "Epoch 9/20\n",
      "4342137/4342137 [==============================] - 34s 8us/step - loss: 3.1079 - accuracy: 0.0977 - val_loss: 3.0772 - val_accuracy: 0.1024\n",
      "Epoch 10/20\n",
      "4342137/4342137 [==============================] - 34s 8us/step - loss: 3.1190 - accuracy: 0.0975 - val_loss: 3.0924 - val_accuracy: 0.1044\n",
      "Epoch 11/20\n",
      "4342137/4342137 [==============================] - 34s 8us/step - loss: 3.0915 - accuracy: 0.1008 - val_loss: 3.2280 - val_accuracy: 0.0748\n",
      "Epoch 12/20\n",
      "4342137/4342137 [==============================] - 34s 8us/step - loss: 3.1123 - accuracy: 0.0974 - val_loss: 3.0385 - val_accuracy: 0.1128\n",
      "Epoch 13/20\n",
      "4342137/4342137 [==============================] - 34s 8us/step - loss: 3.1240 - accuracy: 0.0959 - val_loss: 3.2680 - val_accuracy: 0.0565\n",
      "Epoch 14/20\n",
      "4342137/4342137 [==============================] - 34s 8us/step - loss: 3.1123 - accuracy: 0.0974 - val_loss: 3.0348 - val_accuracy: 0.1058\n",
      "Epoch 15/20\n",
      "4342137/4342137 [==============================] - 34s 8us/step - loss: 3.1082 - accuracy: 0.0985 - val_loss: 3.0554 - val_accuracy: 0.1004\n",
      "Epoch 16/20\n",
      "4342137/4342137 [==============================] - 34s 8us/step - loss: 3.1090 - accuracy: 0.0982 - val_loss: 3.0274 - val_accuracy: 0.1111\n",
      "Epoch 17/20\n",
      "4342137/4342137 [==============================] - 34s 8us/step - loss: 3.0852 - accuracy: 0.1013 - val_loss: 3.0337 - val_accuracy: 0.1098\n",
      "Epoch 18/20\n",
      "4342137/4342137 [==============================] - 34s 8us/step - loss: 3.1322 - accuracy: 0.0959 - val_loss: 3.1886 - val_accuracy: 0.0940\n",
      "Epoch 19/20\n",
      "4342137/4342137 [==============================] - 34s 8us/step - loss: 3.1088 - accuracy: 0.0975 - val_loss: 3.0546 - val_accuracy: 0.0982\n",
      "Epoch 20/20\n",
      "4342137/4342137 [==============================] - 34s 8us/step - loss: 3.0963 - accuracy: 0.0997 - val_loss: 3.0208 - val_accuracy: 0.1099\n"
     ]
    }
   ],
   "source": [
    "# low\n",
    "labels_low_train = to_categorical(labels_train.low.to_numpy(), n_groups_per_col)\n",
    "(low_history, low_model) = fit_ind_categorical_model(data_train, labels_low_train)\n",
    "feather.write_dataframe(pd.DataFrame.from_dict(low_history.history), path + \"low_history.feather\", compression=\"uncompressed\")\n",
    "low_model.save(path + \"low_model.hdf5\")\n"
   ]
  },
  {
   "cell_type": "code",
   "execution_count": 6,
   "metadata": {},
   "outputs": [
    {
     "name": "stdout",
     "output_type": "stream",
     "text": [
      "Train on 4342137 samples, validate on 1085535 samples\n",
      "Epoch 1/20\n",
      "4342137/4342137 [==============================] - 33s 8us/step - loss: 3.3164 - accuracy: 0.0774 - val_loss: 3.1202 - val_accuracy: 0.1092\n",
      "Epoch 2/20\n",
      "4342137/4342137 [==============================] - 36s 8us/step - loss: 3.1775 - accuracy: 0.0899 - val_loss: 3.1098 - val_accuracy: 0.1082\n",
      "Epoch 3/20\n",
      "4342137/4342137 [==============================] - 33s 8us/step - loss: 3.1441 - accuracy: 0.0933 - val_loss: 3.1353 - val_accuracy: 0.0879\n",
      "Epoch 4/20\n",
      "4342137/4342137 [==============================] - 35s 8us/step - loss: 3.1983 - accuracy: 0.0849 - val_loss: 3.1233 - val_accuracy: 0.0995\n",
      "Epoch 5/20\n",
      "4342137/4342137 [==============================] - 36s 8us/step - loss: 3.1106 - accuracy: 0.0976 - val_loss: 3.0661 - val_accuracy: 0.1020\n",
      "Epoch 6/20\n",
      "4342137/4342137 [==============================] - 36s 8us/step - loss: 3.0991 - accuracy: 0.0990 - val_loss: 3.0608 - val_accuracy: 0.1012\n",
      "Epoch 7/20\n",
      "4342137/4342137 [==============================] - 36s 8us/step - loss: 3.1340 - accuracy: 0.0945 - val_loss: 3.0598 - val_accuracy: 0.1065\n",
      "Epoch 8/20\n",
      "4342137/4342137 [==============================] - 35s 8us/step - loss: 3.1169 - accuracy: 0.0962 - val_loss: 3.0532 - val_accuracy: 0.1105\n",
      "Epoch 9/20\n",
      "4342137/4342137 [==============================] - 36s 8us/step - loss: 3.1302 - accuracy: 0.0964 - val_loss: 3.1505 - val_accuracy: 0.0872\n",
      "Epoch 10/20\n",
      "4342137/4342137 [==============================] - 36s 8us/step - loss: 3.1218 - accuracy: 0.0974 - val_loss: 3.1230 - val_accuracy: 0.1030\n",
      "Epoch 11/20\n",
      "4342137/4342137 [==============================] - 36s 8us/step - loss: 3.1125 - accuracy: 0.0975 - val_loss: 3.1751 - val_accuracy: 0.0830\n",
      "Epoch 12/20\n",
      "4342137/4342137 [==============================] - 35s 8us/step - loss: 3.1352 - accuracy: 0.0935 - val_loss: 3.3639 - val_accuracy: 0.0337\n",
      "Epoch 13/20\n",
      "4342137/4342137 [==============================] - 36s 8us/step - loss: 3.1319 - accuracy: 0.0966 - val_loss: 3.0592 - val_accuracy: 0.1041\n",
      "Epoch 14/20\n",
      "4342137/4342137 [==============================] - 36s 8us/step - loss: 3.0927 - accuracy: 0.1000 - val_loss: 3.0622 - val_accuracy: 0.1102\n",
      "Epoch 15/20\n",
      "4342137/4342137 [==============================] - 36s 8us/step - loss: 3.1356 - accuracy: 0.0930 - val_loss: 3.0658 - val_accuracy: 0.1049\n",
      "Epoch 16/20\n",
      "4342137/4342137 [==============================] - 36s 8us/step - loss: 3.2637 - accuracy: 0.0765 - val_loss: 3.0595 - val_accuracy: 0.1068\n",
      "Epoch 17/20\n",
      "4342137/4342137 [==============================] - 36s 8us/step - loss: 3.3507 - accuracy: 0.0610 - val_loss: 3.3883 - val_accuracy: 0.0499\n",
      "Epoch 18/20\n",
      "4342137/4342137 [==============================] - 36s 8us/step - loss: 3.1992 - accuracy: 0.0890 - val_loss: 3.0447 - val_accuracy: 0.1020\n",
      "Epoch 19/20\n",
      "4342137/4342137 [==============================] - 35s 8us/step - loss: 3.0659 - accuracy: 0.1033 - val_loss: 3.0479 - val_accuracy: 0.0997\n",
      "Epoch 20/20\n",
      "4342137/4342137 [==============================] - 36s 8us/step - loss: 3.0654 - accuracy: 0.1030 - val_loss: 3.0379 - val_accuracy: 0.1082\n"
     ]
    }
   ],
   "source": [
    "# high\n",
    "labels_high_train = to_categorical(labels_train.high.to_numpy(), n_groups_per_col)\n",
    "(high_history, high_model) = fit_ind_categorical_model(data_train, labels_high_train)\n",
    "feather.write_dataframe(pd.DataFrame.from_dict(high_history.history), path + \"high_history.feather\", compression=\"uncompressed\")\n",
    "high_model.save(path + \"high_model.hdf5\")"
   ]
  },
  {
   "cell_type": "code",
   "execution_count": 5,
   "metadata": {},
   "outputs": [
    {
     "name": "stdout",
     "output_type": "stream",
     "text": [
      "Train on 4342137 samples, validate on 1085535 samples\n",
      "Epoch 1/20\n",
      "4342137/4342137 [==============================] - 33s 8us/step - loss: 3.3867 - accuracy: 0.0642 - val_loss: 3.2380 - val_accuracy: 0.0799\n",
      "Epoch 2/20\n",
      "4342137/4342137 [==============================] - 36s 8us/step - loss: 3.2538 - accuracy: 0.0764 - val_loss: 3.2236 - val_accuracy: 0.0823\n",
      "Epoch 3/20\n",
      "4342137/4342137 [==============================] - 34s 8us/step - loss: 3.2449 - accuracy: 0.0776 - val_loss: 3.2274 - val_accuracy: 0.0806\n",
      "Epoch 4/20\n",
      "4342137/4342137 [==============================] - 36s 8us/step - loss: 3.2411 - accuracy: 0.0785 - val_loss: 3.2189 - val_accuracy: 0.0834\n",
      "Epoch 5/20\n",
      "4342137/4342137 [==============================] - 34s 8us/step - loss: 3.2383 - accuracy: 0.0790 - val_loss: 3.2247 - val_accuracy: 0.0812\n",
      "Epoch 6/20\n",
      "4342137/4342137 [==============================] - 36s 8us/step - loss: 3.2399 - accuracy: 0.0788 - val_loss: 3.2299 - val_accuracy: 0.0808\n",
      "Epoch 7/20\n",
      "4342137/4342137 [==============================] - 34s 8us/step - loss: 3.2349 - accuracy: 0.0794 - val_loss: 3.2311 - val_accuracy: 0.0796\n",
      "Epoch 8/20\n",
      "4342137/4342137 [==============================] - 34s 8us/step - loss: 3.2348 - accuracy: 0.0796 - val_loss: 3.2236 - val_accuracy: 0.0818\n",
      "Epoch 9/20\n",
      "4342137/4342137 [==============================] - 34s 8us/step - loss: 3.2315 - accuracy: 0.0801 - val_loss: 3.2894 - val_accuracy: 0.0705\n",
      "Epoch 10/20\n",
      "4342137/4342137 [==============================] - 36s 8us/step - loss: 3.2306 - accuracy: 0.0803 - val_loss: 3.2249 - val_accuracy: 0.0828\n",
      "Epoch 11/20\n",
      "4342137/4342137 [==============================] - 36s 8us/step - loss: 3.2305 - accuracy: 0.0802 - val_loss: 3.2617 - val_accuracy: 0.0763\n",
      "Epoch 12/20\n",
      "4342137/4342137 [==============================] - 34s 8us/step - loss: 3.2295 - accuracy: 0.0804 - val_loss: 3.2306 - val_accuracy: 0.0794\n",
      "Epoch 13/20\n",
      "4342137/4342137 [==============================] - 34s 8us/step - loss: 3.2290 - accuracy: 0.0804 - val_loss: 3.2272 - val_accuracy: 0.0798\n",
      "Epoch 14/20\n",
      "4342137/4342137 [==============================] - 34s 8us/step - loss: 3.2282 - accuracy: 0.0807 - val_loss: 3.2833 - val_accuracy: 0.0697\n",
      "Epoch 15/20\n",
      "4342137/4342137 [==============================] - 34s 8us/step - loss: 3.2276 - accuracy: 0.0807 - val_loss: 3.2319 - val_accuracy: 0.0795\n",
      "Epoch 16/20\n",
      "4342137/4342137 [==============================] - 34s 8us/step - loss: 3.2271 - accuracy: 0.0810 - val_loss: 3.2890 - val_accuracy: 0.0724\n",
      "Epoch 17/20\n",
      "4342137/4342137 [==============================] - 34s 8us/step - loss: 3.2268 - accuracy: 0.0811 - val_loss: 3.2216 - val_accuracy: 0.0833\n",
      "Epoch 18/20\n",
      "4342137/4342137 [==============================] - 34s 8us/step - loss: 3.2260 - accuracy: 0.0811 - val_loss: 3.2307 - val_accuracy: 0.0813\n",
      "Epoch 19/20\n",
      "4342137/4342137 [==============================] - 34s 8us/step - loss: 3.2252 - accuracy: 0.0812 - val_loss: 3.2146 - val_accuracy: 0.0830\n",
      "Epoch 20/20\n",
      "4342137/4342137 [==============================] - 34s 8us/step - loss: 3.2251 - accuracy: 0.0811 - val_loss: 3.2297 - val_accuracy: 0.0792\n"
     ]
    }
   ],
   "source": [
    "# close\n",
    "labels_close_train = to_categorical(labels_train.close.to_numpy(), n_groups_per_col)\n",
    "(close_history, close_model) = fit_ind_categorical_model(data_train, labels_close_train)\n",
    "feather.write_dataframe(pd.DataFrame.from_dict(close_history.history), path + \"close_history.feather\", compression=\"uncompressed\")\n",
    "close_model.save(path + \"close_model.hdf5\")"
   ]
  },
  {
   "cell_type": "code",
   "execution_count": 9,
   "metadata": {},
   "outputs": [],
   "source": [
    "### Predict\n",
    "# low_model = load_model(path + \"low_model.hdf5\")\n",
    "# high_model = load_model(path + \"high_model.hdf5\")\n",
    "# close_model = load_model(path + \"close_model.hdf5\")"
   ]
  },
  {
   "cell_type": "code",
   "execution_count": 10,
   "metadata": {},
   "outputs": [],
   "source": [
    "data_test = pd.read_feather(path + \"data_test.feather\").to_numpy()\n",
    "\n",
    "low_pred_prob = low_model.predict_proba(data_test, batch_size = 512)\n",
    "feather.write_dataframe(pd.DataFrame(low_pred_prob), path + \"low_pred_prob.feather\", compression='uncompressed')\n",
    "\n",
    "high_pred_prob = high_model.predict_proba(data_test, batch_size = 512)\n",
    "feather.write_dataframe(pd.DataFrame(high_pred_prob), path + \"high_pred_prob.feather\", compression='uncompressed')\n",
    "\n",
    "close_pred_prob = close_model.predict_proba(data_test, batch_size = 512)\n",
    "feather.write_dataframe(pd.DataFrame(close_pred_prob), path + \"close_pred_prob.feather\", compression='uncompressed')\n"
   ]
  },
  {
   "cell_type": "code",
   "execution_count": null,
   "metadata": {},
   "outputs": [],
   "source": []
  }
 ],
 "metadata": {
  "kernelspec": {
   "display_name": "Python 3",
   "language": "python",
   "name": "python3"
  },
  "language_info": {
   "codemirror_mode": {
    "name": "ipython",
    "version": 3
   },
   "file_extension": ".py",
   "mimetype": "text/x-python",
   "name": "python",
   "nbconvert_exporter": "python",
   "pygments_lexer": "ipython3",
   "version": "3.6.10"
  }
 },
 "nbformat": 4,
 "nbformat_minor": 4
}
