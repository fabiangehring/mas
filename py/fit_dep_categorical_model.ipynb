{
 "cells": [
  {
   "cell_type": "code",
   "execution_count": 1,
   "metadata": {},
   "outputs": [
    {
     "name": "stderr",
     "output_type": "stream",
     "text": [
      "Using TensorFlow backend.\n"
     ]
    }
   ],
   "source": [
    "import pandas as pd\n",
    "import feather\n",
    "\n",
    "from keras.models import Sequential\n",
    "from keras.layers import Dense\n",
    "from keras.utils.np_utils import to_categorical\n",
    "from keras.models import load_model\n"
   ]
  },
  {
   "cell_type": "code",
   "execution_count": 2,
   "metadata": {},
   "outputs": [],
   "source": [
    "n_groups_per_col = 10\n",
    "architecture = \"2_dense_512\"\n",
    "path = \"../data/models/dep/categorical/\" + architecture +\"/\"\n",
    "\n",
    "data_train = pd.read_feather(path + \"data_train.feather\").to_numpy()\n",
    "labels_train = pd.read_feather(path + \"labels_train.feather\").to_numpy()"
   ]
  },
  {
   "cell_type": "code",
   "execution_count": null,
   "metadata": {},
   "outputs": [],
   "source": [
    "def fit_ind_categorical_model(data_train, labels_train):\n",
    "    \n",
    "    model = Sequential()\n",
    "    model.add(Dense(units=512, activation='relu', input_shape=(data_train.shape[1],)))\n",
    "    model.add(Dense(units=512, activation='relu'))\n",
    "    model.add(Dense(pow(n_groups_per_col, 3), activation='softmax'))\n",
    "    \n",
    "    model.compile(loss='sparse_categorical_crossentropy', optimizer='adam', metrics=['accuracy'])\n",
    "\n",
    "    history = model.fit(data_train, labels_train, validation_split=0.2, batch_size=512, epochs=5, verbose=1)\n",
    "    \n",
    "    return (history, model)"
   ]
  },
  {
   "cell_type": "code",
   "execution_count": null,
   "metadata": {
    "scrolled": false
   },
   "outputs": [],
   "source": [
    "(history, model) = fit_ind_categorical_model(data_train, labels_train)\n",
    "feather.write_dataframe(pd.DataFrame.from_dict(history.history), path + \"history.feather\", compression=\"uncompressed\")\n",
    "model.save(path + \"model.hdf5\")"
   ]
  },
  {
   "cell_type": "code",
   "execution_count": 3,
   "metadata": {},
   "outputs": [],
   "source": [
    "### Predict\n",
    "# model = load_model(path + \"model.hdf5\")\n"
   ]
  },
  {
   "cell_type": "code",
   "execution_count": 4,
   "metadata": {},
   "outputs": [],
   "source": [
    "data_test = pd.read_feather(path + \"data_test.feather\").to_numpy()\n",
    "\n",
    "#pred_prob_1 = model.predict_proba(data_test[0:500000,], batch_size = 512)\n",
    "#feather.write_dataframe(pd.DataFrame(pred_prob_1), path + \"pred_prob_1.feather\", compression='uncompressed')\n",
    "\n",
    "pred_prob_2 = model.predict_proba(data_test[500001:1000000,], batch_size = 512)\n",
    "feather.write_dataframe(pd.DataFrame(pred_prob_2), path + \"pred_prob_2.feather\", compression='uncompressed')\n",
    "\n",
    "#pred_prob_3 = model.predict_proba(data_test[1000001:,], batch_size = 512)\n",
    "#feather.write_dataframe(pd.DataFrame(pred_prob_3), path + \"pred_prob_3.feather\", compression='uncompressed')\n"
   ]
  }
 ],
 "metadata": {
  "kernelspec": {
   "display_name": "Python 3",
   "language": "python",
   "name": "python3"
  },
  "language_info": {
   "codemirror_mode": {
    "name": "ipython",
    "version": 3
   },
   "file_extension": ".py",
   "mimetype": "text/x-python",
   "name": "python",
   "nbconvert_exporter": "python",
   "pygments_lexer": "ipython3",
   "version": "3.6.10"
  }
 },
 "nbformat": 4,
 "nbformat_minor": 4
}
