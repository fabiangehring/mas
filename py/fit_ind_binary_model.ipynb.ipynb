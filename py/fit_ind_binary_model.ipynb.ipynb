{
 "cells": [
  {
   "cell_type": "code",
   "execution_count": 1,
   "metadata": {},
   "outputs": [
    {
     "name": "stderr",
     "output_type": "stream",
     "text": [
      "Using TensorFlow backend.\n"
     ]
    }
   ],
   "source": [
    "import pandas as pd\n",
    "import feather\n",
    "\n",
    "from keras.models import Sequential\n",
    "from keras.layers import Dense\n",
    "from keras.utils.np_utils import to_categorical\n",
    "from keras.models import load_model\n"
   ]
  },
  {
   "cell_type": "code",
   "execution_count": 2,
   "metadata": {},
   "outputs": [],
   "source": [
    "n_groups_per_col = 9\n",
    "architecture = \"2_dense_512\"\n",
    "spread = \"spread\"\n",
    "path = \"../data/models/ind/binary/\" + architecture +\"/\" + spread + \"/\"\n",
    "\n",
    "data_train = pd.read_feather(path + \"data_train.feather\")\n",
    "\n",
    "labels_low_train = pd.read_feather(path + \"labels_low_train.feather\")\n",
    "labels_high_train = pd.read_feather(path + \"labels_high_train.feather\")\n",
    "labels_close_train = pd.read_feather(path + \"labels_close_train.feather\")"
   ]
  },
  {
   "cell_type": "code",
   "execution_count": 3,
   "metadata": {},
   "outputs": [],
   "source": [
    "train_data = data_train.to_numpy()\n",
    "labels_low_train = labels_low_train.to_numpy()\n",
    "labels_high_train = labels_high_train.to_numpy()\n",
    "labels_close_train = labels_close_train.to_numpy()"
   ]
  },
  {
   "cell_type": "code",
   "execution_count": 4,
   "metadata": {},
   "outputs": [],
   "source": [
    "def fit_ind_binary_model(data_train, labels_train):\n",
    "    \n",
    "    model = Sequential()\n",
    "    model.add(Dense(units=512, activation='relu', input_shape=(data_train.shape[1],)))\n",
    "    model.add(Dense(units=512, activation='relu'))\n",
    "    model.add(Dense(labels_train.shape[1], activation='sigmoid'))\n",
    "    \n",
    "    model.compile(loss='binary_crossentropy', optimizer='adam', metrics=['accuracy'])\n",
    "\n",
    "    history = model.fit(data_train, labels_train, validation_split=0.2, batch_size=256, epochs=3, verbose=1)\n",
    "    \n",
    "    return (history, model)"
   ]
  },
  {
   "cell_type": "code",
   "execution_count": null,
   "metadata": {
    "scrolled": true
   },
   "outputs": [],
   "source": [
    "# low\n",
    "(low_history, low_model) = fit_ind_binary_model(data_train, labels_low_train)\n",
    "feather.write_dataframe(pd.DataFrame.from_dict(low_history.history), path + \"low_history.feather\", compression = \"uncompressed\")\n",
    "low_model.save(path + \"low_model.hdf5\")\n"
   ]
  },
  {
   "cell_type": "code",
   "execution_count": null,
   "metadata": {},
   "outputs": [],
   "source": [
    "# high\n",
    "(high_history, high_model) = fit_ind_binary_model(train_data, labels_high_train)\n",
    "feather.write_dataframe(pd.DataFrame.from_dict(high_history.history), path + \"high_history.feather\", compression = \"uncompressed\")\n",
    "high_model.save(path + \"high_model.hdf5\")"
   ]
  },
  {
   "cell_type": "code",
   "execution_count": 5,
   "metadata": {
    "scrolled": true
   },
   "outputs": [
    {
     "name": "stdout",
     "output_type": "stream",
     "text": [
      "Train on 3566135 samples, validate on 891534 samples\n",
      "Epoch 1/3\n",
      "3566135/3566135 [==============================] - 49s 14us/step - loss: 0.4949 - accuracy: 0.7514 - val_loss: 0.4866 - val_accuracy: 0.7530\n",
      "Epoch 2/3\n",
      "3566135/3566135 [==============================] - 49s 14us/step - loss: 0.4851 - accuracy: 0.7531 - val_loss: 0.4890 - val_accuracy: 0.7530\n",
      "Epoch 3/3\n",
      "3566135/3566135 [==============================] - 48s 14us/step - loss: 0.4845 - accuracy: 0.7531 - val_loss: 0.4851 - val_accuracy: 0.7530\n"
     ]
    }
   ],
   "source": [
    "# close\n",
    "(close_history, close_model) = fit_ind_binary_model(train_data, labels_close_train)\n",
    "feather.write_dataframe(pd.DataFrame.from_dict(close_history.history), path + \"history.feather\", compression = \"uncompressed\")\n",
    "close_model.save(path + \"close_model.hdf5\")\n"
   ]
  },
  {
   "cell_type": "code",
   "execution_count": 7,
   "metadata": {},
   "outputs": [],
   "source": [
    "### Predict\n",
    "\n",
    "low_model = load_model(path + \"low_model.hdf5\")\n",
    "high_model = load_model(path + \"high_model.hdf5\")\n",
    "# close_model = load_model(\"../data/models/ind/binary/close_model.hdf5\")"
   ]
  },
  {
   "cell_type": "code",
   "execution_count": 9,
   "metadata": {},
   "outputs": [
    {
     "data": {
      "text/plain": [
       "array([[109.27324338, 109.27324358, 106.26570126, ..., 107.26814527,\n",
       "        104.76189631, 100.        ],\n",
       "       [ 98.52213901, 100.00001182,  98.52217435, ..., 102.95561555,\n",
       "        100.        , 100.        ],\n",
       "       [ 98.12200104,  95.7746988 ,  97.65257239, ..., 104.22531046,\n",
       "        102.81681004, 100.        ],\n",
       "       ...,\n",
       "       [ 96.01658106,  97.25995986,  97.2829868 , ..., 100.87497539,\n",
       "        101.28943269, 100.        ],\n",
       "       [102.22598893, 101.91145033, 104.28260646, ..., 105.08105507,\n",
       "        104.59714506, 100.        ],\n",
       "       [111.5778721 , 111.68032959, 112.37193103, ..., 103.84221317,\n",
       "        104.17520959, 100.        ]])"
      ]
     },
     "execution_count": 9,
     "metadata": {},
     "output_type": "execute_result"
    }
   ],
   "source": [
    "data_test"
   ]
  },
  {
   "cell_type": "code",
   "execution_count": 8,
   "metadata": {},
   "outputs": [],
   "source": [
    "data_test = pd.read_feather(path + \"data_test.feather\").to_numpy()\n",
    "\n",
    "low_pred_prob = low_model.predict_proba(data_test, batch_size = 256)\n",
    "feather.write_dataframe(pd.DataFrame(low_pred_prob), path + \"low_pred_prob.feather\", compression='uncompressed')\n",
    "\n",
    "high_pred_prob = high_model.predict_proba(data_test, batch_size = 256)\n",
    "feather.write_dataframe(pd.DataFrame(high_pred_prob), path + \"high_pred_prob.feather\", compression='uncompressed')\n",
    "\n",
    "close_pred_prob = close_model.predict_proba(data_test, batch_size = 256)\n",
    "feather.write_dataframe(pd.DataFrame(close_pred_prob), path + \"close_pred_prob.feather\", compression='uncompressed')\n"
   ]
  },
  {
   "cell_type": "code",
   "execution_count": null,
   "metadata": {},
   "outputs": [],
   "source": []
  }
 ],
 "metadata": {
  "kernelspec": {
   "display_name": "Python 3",
   "language": "python",
   "name": "python3"
  },
  "language_info": {
   "codemirror_mode": {
    "name": "ipython",
    "version": 3
   },
   "file_extension": ".py",
   "mimetype": "text/x-python",
   "name": "python",
   "nbconvert_exporter": "python",
   "pygments_lexer": "ipython3",
   "version": "3.6.10"
  }
 },
 "nbformat": 4,
 "nbformat_minor": 4
}
