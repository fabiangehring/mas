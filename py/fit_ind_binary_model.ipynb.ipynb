{
 "cells": [
  {
   "cell_type": "code",
   "execution_count": 1,
   "metadata": {},
   "outputs": [
    {
     "name": "stderr",
     "output_type": "stream",
     "text": [
      "Using TensorFlow backend.\n"
     ]
    }
   ],
   "source": [
    "import pandas as pd\n",
    "import feather\n",
    "\n",
    "from keras.models import Sequential\n",
    "from keras.layers import Dense\n",
    "from keras.utils.np_utils import to_categorical\n",
    "from keras.models import load_model\n"
   ]
  },
  {
   "cell_type": "code",
   "execution_count": 2,
   "metadata": {},
   "outputs": [],
   "source": [
    "n_groups_per_col = 30\n",
    "data_train = pd.read_feather(\"../data/models/ind/binary/data_train.feather\")\n",
    "\n",
    "labels_low_train = pd.read_feather(\"../data/models/ind/binary/labels_low_train.feather\")\n",
    "labels_high_train = pd.read_feather(\"../data/models/ind/binary/labels_high_train.feather\")\n",
    "labels_close_train = pd.read_feather(\"../data/models/ind/binary/labels_close_train.feather\")"
   ]
  },
  {
   "cell_type": "code",
   "execution_count": 3,
   "metadata": {},
   "outputs": [],
   "source": [
    "train_data = data_train.to_numpy()\n",
    "labels_low_train = labels_low_train.to_numpy()\n",
    "labels_high_train = labels_high_train.to_numpy()\n",
    "labels_close_train = labels_close_train.to_numpy()"
   ]
  },
  {
   "cell_type": "code",
   "execution_count": 7,
   "metadata": {},
   "outputs": [],
   "source": [
    "def fit_ind_binary_model(data_train, labels_train):\n",
    "    \n",
    "    model = Sequential()\n",
    "    model.add(Dense(units=512, activation='relu', input_shape=(data_train.shape[1],)))\n",
    "    model.add(Dense(units=512, activation='relu'))\n",
    "    model.add(Dense(labels_train.shape[1], activation='sigmoid'))\n",
    "    \n",
    "    model.compile(loss='binary_crossentropy', optimizer='adam', metrics=['accuracy'])\n",
    "\n",
    "    history = model.fit(data_train, labels_train, validation_split=0.2, batch_size=512, epochs=20, verbose=1)\n",
    "    \n",
    "    return (history, model)"
   ]
  },
  {
   "cell_type": "code",
   "execution_count": 8,
   "metadata": {
    "scrolled": true
   },
   "outputs": [
    {
     "name": "stdout",
     "output_type": "stream",
     "text": [
      "Train on 4342137 samples, validate on 1085535 samples\n",
      "Epoch 1/20\n",
      "4342137/4342137 [==============================] - 36s 8us/step - loss: 0.4319 - accuracy: 0.7927 - val_loss: 0.3906 - val_accuracy: 0.8138\n",
      "Epoch 2/20\n",
      "4342137/4342137 [==============================] - 35s 8us/step - loss: 0.4043 - accuracy: 0.8064 - val_loss: 0.3880 - val_accuracy: 0.8143\n",
      "Epoch 3/20\n",
      "4342137/4342137 [==============================] - 35s 8us/step - loss: 0.3962 - accuracy: 0.8107 - val_loss: 0.3812 - val_accuracy: 0.8208\n",
      "Epoch 4/20\n",
      "4342137/4342137 [==============================] - 35s 8us/step - loss: 0.4089 - accuracy: 0.8049 - val_loss: 0.4114 - val_accuracy: 0.8031\n",
      "Epoch 5/20\n",
      "4342137/4342137 [==============================] - 35s 8us/step - loss: 0.3968 - accuracy: 0.8118 - val_loss: 0.4100 - val_accuracy: 0.8043\n",
      "Epoch 6/20\n",
      "4342137/4342137 [==============================] - 35s 8us/step - loss: 0.3922 - accuracy: 0.8135 - val_loss: 0.3997 - val_accuracy: 0.8098\n",
      "Epoch 7/20\n",
      "4342137/4342137 [==============================] - 35s 8us/step - loss: 0.3882 - accuracy: 0.8153 - val_loss: 0.3763 - val_accuracy: 0.8216\n",
      "Epoch 8/20\n",
      "4342137/4342137 [==============================] - 35s 8us/step - loss: 0.3860 - accuracy: 0.8161 - val_loss: 0.3753 - val_accuracy: 0.8221\n",
      "Epoch 9/20\n",
      "4342137/4342137 [==============================] - 35s 8us/step - loss: 0.3847 - accuracy: 0.8166 - val_loss: 0.3745 - val_accuracy: 0.8220\n",
      "Epoch 10/20\n",
      "4342137/4342137 [==============================] - 35s 8us/step - loss: 0.3846 - accuracy: 0.8166 - val_loss: 0.3743 - val_accuracy: 0.8222\n",
      "Epoch 11/20\n",
      "4342137/4342137 [==============================] - 35s 8us/step - loss: 0.3826 - accuracy: 0.8175 - val_loss: 0.3743 - val_accuracy: 0.8215\n",
      "Epoch 12/20\n",
      "4342137/4342137 [==============================] - 35s 8us/step - loss: 0.3827 - accuracy: 0.8174 - val_loss: 0.3772 - val_accuracy: 0.8212\n",
      "Epoch 13/20\n",
      "4342137/4342137 [==============================] - 35s 8us/step - loss: 0.3816 - accuracy: 0.8179 - val_loss: 0.3734 - val_accuracy: 0.8221\n",
      "Epoch 14/20\n",
      "4342137/4342137 [==============================] - 35s 8us/step - loss: 0.3813 - accuracy: 0.8180 - val_loss: 0.3966 - val_accuracy: 0.8097\n",
      "Epoch 15/20\n",
      "4342137/4342137 [==============================] - 35s 8us/step - loss: 0.3819 - accuracy: 0.8177 - val_loss: 0.3947 - val_accuracy: 0.8118\n",
      "Epoch 16/20\n",
      "4342137/4342137 [==============================] - 35s 8us/step - loss: 0.3806 - accuracy: 0.8183 - val_loss: 0.3951 - val_accuracy: 0.8116\n",
      "Epoch 17/20\n",
      "4342137/4342137 [==============================] - 35s 8us/step - loss: 0.3805 - accuracy: 0.8184 - val_loss: 0.3759 - val_accuracy: 0.8211\n",
      "Epoch 18/20\n",
      "4342137/4342137 [==============================] - 35s 8us/step - loss: 0.3802 - accuracy: 0.8185 - val_loss: 0.3797 - val_accuracy: 0.8178\n",
      "Epoch 19/20\n",
      "4342137/4342137 [==============================] - 35s 8us/step - loss: 0.3801 - accuracy: 0.8185 - val_loss: 0.3742 - val_accuracy: 0.8215\n",
      "Epoch 20/20\n",
      "4342137/4342137 [==============================] - 35s 8us/step - loss: 0.3798 - accuracy: 0.8187 - val_loss: 0.3712 - val_accuracy: 0.8230\n"
     ]
    }
   ],
   "source": [
    "# low\n",
    "(low_history, low_model) = fit_ind_binary_model(data_train, labels_low_train)\n",
    "feather.write_dataframe(pd.DataFrame.from_dict(low_history.history), \"../data/models/ind/binary/low_history.feather\", compression = \"uncompressed\")\n",
    "low_model.save(\"../data/models/ind/binary/low_model.hdf5\")\n"
   ]
  },
  {
   "cell_type": "code",
   "execution_count": 9,
   "metadata": {},
   "outputs": [
    {
     "name": "stdout",
     "output_type": "stream",
     "text": [
      "Train on 4342137 samples, validate on 1085535 samples\n",
      "Epoch 1/20\n",
      "4342137/4342137 [==============================] - 36s 8us/step - loss: 0.4299 - accuracy: 0.7932 - val_loss: 0.3995 - val_accuracy: 0.8091\n",
      "Epoch 2/20\n",
      "4342137/4342137 [==============================] - 35s 8us/step - loss: 0.4031 - accuracy: 0.8065 - val_loss: 0.3791 - val_accuracy: 0.8192\n",
      "Epoch 3/20\n",
      "4342137/4342137 [==============================] - 35s 8us/step - loss: 0.3976 - accuracy: 0.8088 - val_loss: 0.4191 - val_accuracy: 0.7920\n",
      "Epoch 4/20\n",
      "4342137/4342137 [==============================] - 35s 8us/step - loss: 0.3963 - accuracy: 0.8091 - val_loss: 0.4042 - val_accuracy: 0.8072\n",
      "Epoch 5/20\n",
      "4342137/4342137 [==============================] - 35s 8us/step - loss: 0.3946 - accuracy: 0.8105 - val_loss: 0.3765 - val_accuracy: 0.8197\n",
      "Epoch 6/20\n",
      "4342137/4342137 [==============================] - 35s 8us/step - loss: 0.3908 - accuracy: 0.8125 - val_loss: 0.3762 - val_accuracy: 0.8198\n",
      "Epoch 7/20\n",
      "4342137/4342137 [==============================] - 35s 8us/step - loss: 0.3884 - accuracy: 0.8138 - val_loss: 0.4127 - val_accuracy: 0.8016\n",
      "Epoch 8/20\n",
      "4342137/4342137 [==============================] - 35s 8us/step - loss: 0.3869 - accuracy: 0.8146 - val_loss: 0.3727 - val_accuracy: 0.8218\n",
      "Epoch 9/20\n",
      "4342137/4342137 [==============================] - 35s 8us/step - loss: 0.3854 - accuracy: 0.8152 - val_loss: 0.3718 - val_accuracy: 0.8213\n",
      "Epoch 10/20\n",
      "4342137/4342137 [==============================] - 36s 8us/step - loss: 0.3842 - accuracy: 0.8155 - val_loss: 0.3883 - val_accuracy: 0.8118\n",
      "Epoch 11/20\n",
      "4342137/4342137 [==============================] - 35s 8us/step - loss: 0.3832 - accuracy: 0.8162 - val_loss: 0.3762 - val_accuracy: 0.8203\n",
      "Epoch 12/20\n",
      "4342137/4342137 [==============================] - 35s 8us/step - loss: 0.3827 - accuracy: 0.8163 - val_loss: 0.4395 - val_accuracy: 0.8008\n",
      "Epoch 13/20\n",
      "4342137/4342137 [==============================] - 35s 8us/step - loss: 0.3817 - accuracy: 0.8167 - val_loss: 0.3697 - val_accuracy: 0.8223\n",
      "Epoch 14/20\n",
      "4342137/4342137 [==============================] - 36s 8us/step - loss: 0.3811 - accuracy: 0.8168 - val_loss: 0.3701 - val_accuracy: 0.8231\n",
      "Epoch 15/20\n",
      "4342137/4342137 [==============================] - 35s 8us/step - loss: 0.3816 - accuracy: 0.8165 - val_loss: 0.3888 - val_accuracy: 0.8125\n",
      "Epoch 16/20\n",
      "4342137/4342137 [==============================] - 35s 8us/step - loss: 0.3802 - accuracy: 0.8170 - val_loss: 0.3987 - val_accuracy: 0.8069\n",
      "Epoch 17/20\n",
      "4342137/4342137 [==============================] - 35s 8us/step - loss: 0.3791 - accuracy: 0.8175 - val_loss: 0.3800 - val_accuracy: 0.8198\n",
      "Epoch 18/20\n",
      "4342137/4342137 [==============================] - 35s 8us/step - loss: 0.3785 - accuracy: 0.8177 - val_loss: 0.3698 - val_accuracy: 0.8205\n",
      "Epoch 19/20\n",
      "4342137/4342137 [==============================] - 35s 8us/step - loss: 0.3778 - accuracy: 0.8178 - val_loss: 0.4146 - val_accuracy: 0.8007\n",
      "Epoch 20/20\n",
      "4342137/4342137 [==============================] - 35s 8us/step - loss: 0.3777 - accuracy: 0.8179 - val_loss: 0.4043 - val_accuracy: 0.8049\n"
     ]
    }
   ],
   "source": [
    "# high\n",
    "(high_history, high_model) = fit_ind_binary_model(train_data, labels_high_train)\n",
    "feather.write_dataframe(pd.DataFrame.from_dict(high_history.history), \"../data/models/ind/binary/high_history.feather\", compression = \"uncompressed\")\n",
    "high_model.save(\"../data/models/ind/binary/high_model.hdf5\")"
   ]
  },
  {
   "cell_type": "code",
   "execution_count": 10,
   "metadata": {
    "scrolled": true
   },
   "outputs": [
    {
     "name": "stdout",
     "output_type": "stream",
     "text": [
      "Train on 4342137 samples, validate on 1085535 samples\n",
      "Epoch 1/20\n",
      "4342137/4342137 [==============================] - 35s 8us/step - loss: 0.4673 - accuracy: 0.7697 - val_loss: 0.4604 - val_accuracy: 0.7718\n",
      "Epoch 2/20\n",
      "4342137/4342137 [==============================] - 35s 8us/step - loss: 0.4507 - accuracy: 0.7788 - val_loss: 0.4444 - val_accuracy: 0.7827\n",
      "Epoch 3/20\n",
      "4342137/4342137 [==============================] - 35s 8us/step - loss: 0.4482 - accuracy: 0.7805 - val_loss: 0.4417 - val_accuracy: 0.7847\n",
      "Epoch 4/20\n",
      "4342137/4342137 [==============================] - 35s 8us/step - loss: 0.4465 - accuracy: 0.7816 - val_loss: 0.4604 - val_accuracy: 0.7711\n",
      "Epoch 5/20\n",
      "4342137/4342137 [==============================] - 35s 8us/step - loss: 0.4457 - accuracy: 0.7821 - val_loss: 0.4383 - val_accuracy: 0.7872\n",
      "Epoch 6/20\n",
      "4342137/4342137 [==============================] - 35s 8us/step - loss: 0.4449 - accuracy: 0.7826 - val_loss: 0.4401 - val_accuracy: 0.7853\n",
      "Epoch 7/20\n",
      "4342137/4342137 [==============================] - 35s 8us/step - loss: 0.4469 - accuracy: 0.7817 - val_loss: 0.4492 - val_accuracy: 0.7824\n",
      "Epoch 8/20\n",
      "4342137/4342137 [==============================] - 35s 8us/step - loss: 0.4445 - accuracy: 0.7831 - val_loss: 0.4401 - val_accuracy: 0.7856\n",
      "Epoch 9/20\n",
      "4342137/4342137 [==============================] - 35s 8us/step - loss: 0.4436 - accuracy: 0.7836 - val_loss: 0.4472 - val_accuracy: 0.7809\n",
      "Epoch 10/20\n",
      "4342137/4342137 [==============================] - 35s 8us/step - loss: 0.4433 - accuracy: 0.7838 - val_loss: 0.4511 - val_accuracy: 0.7830\n",
      "Epoch 11/20\n",
      "4342137/4342137 [==============================] - 35s 8us/step - loss: 0.4466 - accuracy: 0.7830 - val_loss: 0.4583 - val_accuracy: 0.7745\n",
      "Epoch 12/20\n",
      "4342137/4342137 [==============================] - 35s 8us/step - loss: 0.4425 - accuracy: 0.7842 - val_loss: 0.4515 - val_accuracy: 0.7775\n",
      "Epoch 13/20\n",
      "4342137/4342137 [==============================] - 35s 8us/step - loss: 0.4419 - accuracy: 0.7844 - val_loss: 0.4368 - val_accuracy: 0.7881\n",
      "Epoch 14/20\n",
      "4342137/4342137 [==============================] - 35s 8us/step - loss: 0.4413 - accuracy: 0.7848 - val_loss: 0.4596 - val_accuracy: 0.7713\n",
      "Epoch 15/20\n",
      "4342137/4342137 [==============================] - 35s 8us/step - loss: 0.4447 - accuracy: 0.7840 - val_loss: 0.4373 - val_accuracy: 0.7877\n",
      "Epoch 16/20\n",
      "4342137/4342137 [==============================] - 35s 8us/step - loss: 0.4411 - accuracy: 0.7850 - val_loss: 0.4378 - val_accuracy: 0.7870\n",
      "Epoch 17/20\n",
      "4342137/4342137 [==============================] - 35s 8us/step - loss: 0.4406 - accuracy: 0.7853 - val_loss: 0.4383 - val_accuracy: 0.7867\n",
      "Epoch 18/20\n",
      "4342137/4342137 [==============================] - 35s 8us/step - loss: 0.4405 - accuracy: 0.7854 - val_loss: 0.4422 - val_accuracy: 0.7839\n",
      "Epoch 19/20\n",
      "4342137/4342137 [==============================] - 35s 8us/step - loss: 0.4403 - accuracy: 0.7855 - val_loss: 0.4450 - val_accuracy: 0.7818\n",
      "Epoch 20/20\n",
      "4342137/4342137 [==============================] - 35s 8us/step - loss: 0.4404 - accuracy: 0.7855 - val_loss: 0.4405 - val_accuracy: 0.7868\n"
     ]
    }
   ],
   "source": [
    "# close\n",
    "(close_history, close_model) = fit_ind_binary_model(train_data, labels_close_train)\n",
    "feather.write_dataframe(pd.DataFrame.from_dict(close_history.history), \"../data/models/ind/binary/history.feather\", compression = \"uncompressed\")\n",
    "close_model.save(\"../data/models/ind/binary/close_model.hdf5\")\n"
   ]
  },
  {
   "cell_type": "code",
   "execution_count": null,
   "metadata": {},
   "outputs": [],
   "source": [
    "### Predict\n",
    "\n",
    "# low_model = load_model(\"../data/models/ind/binary/low_model.hdf5\")\n",
    "# high_model = load_model(\"../data/models/ind/binary/high_model.hdf5\")\n",
    "# close_model = load_model(\"../data/models/ind/binary/close_model.hdf5\")"
   ]
  },
  {
   "cell_type": "code",
   "execution_count": 11,
   "metadata": {},
   "outputs": [],
   "source": [
    "data_test = pd.read_feather(\"../data/models/ind/binary/data_test.feather\").to_numpy()\n",
    "\n",
    "low_pred_prob = low_model.predict_proba(data_test, batch_size = 512)\n",
    "feather.write_dataframe(pd.DataFrame(low_pred_prob), \"../data/models/ind/binary/low_pred_prob.feather\", compression='uncompressed')\n",
    "\n",
    "high_pred_prob = high_model.predict_proba(data_test, batch_size = 512)\n",
    "feather.write_dataframe(pd.DataFrame(high_pred_prob), \"../data/models/ind/binary/high_pred_prob.feather\", compression='uncompressed')\n",
    "\n",
    "close_pred_prob = close_model.predict_proba(data_test, batch_size = 512)\n",
    "feather.write_dataframe(pd.DataFrame(close_pred_prob), \"../data/models/ind/binary/close_pred_prob.feather\", compression='uncompressed')\n"
   ]
  },
  {
   "cell_type": "code",
   "execution_count": null,
   "metadata": {},
   "outputs": [],
   "source": []
  }
 ],
 "metadata": {
  "kernelspec": {
   "display_name": "Python 3",
   "language": "python",
   "name": "python3"
  },
  "language_info": {
   "codemirror_mode": {
    "name": "ipython",
    "version": 3
   },
   "file_extension": ".py",
   "mimetype": "text/x-python",
   "name": "python",
   "nbconvert_exporter": "python",
   "pygments_lexer": "ipython3",
   "version": "3.6.10"
  }
 },
 "nbformat": 4,
 "nbformat_minor": 4
}
