{
 "cells": [
  {
   "cell_type": "code",
   "execution_count": 8,
   "metadata": {},
   "outputs": [],
   "source": [
    "import pandas as pd\n",
    "import feather\n",
    "\n",
    "from keras.models import Sequential\n",
    "from keras.layers import Dense\n",
    "from keras.utils.np_utils import to_categorical"
   ]
  },
  {
   "cell_type": "code",
   "execution_count": 9,
   "metadata": {},
   "outputs": [],
   "source": [
    "n_groups_per_col = 30\n",
    "ind_binary_data_train = pd.read_feather(\"../data/ind_binary_data_train.feather\")\n",
    "ind_binary_labels_low_train = pd.read_feather(\"../data/ind_binary_labels_low_train.feather\")\n",
    "ind_binary_labels_high_train = pd.read_feather(\"../data/ind_binary_labels_high_train.feather\")\n",
    "ind_binary_labels_close_train = pd.read_feather(\"../data/ind_binary_labels_close_train.feather\")"
   ]
  },
  {
   "cell_type": "code",
   "execution_count": 10,
   "metadata": {},
   "outputs": [],
   "source": [
    "train_data = ind_binary_data_train.to_numpy()\n",
    "v = ind_binary_labels_low_train.to_numpy()\n",
    "ind_binary_labels_high_train = ind_binary_labels_high_train.to_numpy()\n",
    "ind_binary_labels_close_train = ind_binary_labels_close_train.to_numpy()"
   ]
  },
  {
   "cell_type": "code",
   "execution_count": 11,
   "metadata": {},
   "outputs": [],
   "source": [
    "def fit_ind_binary_model(train_data, train_labels):\n",
    "    \n",
    "    model = Sequential()\n",
    "    model.add(Dense(units=512, activation='relu', input_shape=(train_data.shape[1],)))\n",
    "    model.add(Dense(units=512, activation='relu'))\n",
    "    model.add(Dense(train_labels.shape[1], activation='sigmoid'))\n",
    "    \n",
    "    model.compile(loss='binary_crossentropy', optimizer='adam', metrics=['accuracy'])\n",
    "\n",
    "    history = model.fit(train_data, train_labels, validation_split=0.2, batch_size=512, epochs=20, verbose=1)\n",
    "    \n",
    "    return (history, model)"
   ]
  },
  {
   "cell_type": "code",
   "execution_count": null,
   "metadata": {},
   "outputs": [
    {
     "name": "stdout",
     "output_type": "stream",
     "text": [
      "Train on 4342137 samples, validate on 1085535 samples\n",
      "Epoch 1/20\n",
      "4342137/4342137 [==============================] - 35s 8us/step - loss: 0.4276 - accuracy: 0.7940 - val_loss: 0.3863 - val_accuracy: 0.8152\n",
      "Epoch 2/20\n",
      "4342137/4342137 [==============================] - 35s 8us/step - loss: 0.4061 - accuracy: 0.8048 - val_loss: 0.3990 - val_accuracy: 0.8092\n",
      "Epoch 3/20\n",
      "4342137/4342137 [==============================] - 35s 8us/step - loss: 0.3999 - accuracy: 0.8088 - val_loss: 0.3825 - val_accuracy: 0.8195\n",
      "Epoch 4/20\n",
      "2957312/4342137 [===================>..........] - ETA: 9s - loss: 0.3943 - accuracy: 0.8128 "
     ]
    }
   ],
   "source": [
    "# low\n",
    "(indipendent_binary_low_history, indipendent_binary_low_model) = fit_ind_binary_model(train_data, ind_binary_labels_low_train)\n",
    "feather.write_dataframe(pd.DataFrame.from_dict(indipendent_binary_low_history.history), \"../data/indipendent_binary_low_history.feather\")\n",
    "indipendent_binary_low_model.save(\"../data/indipendent_binary_low_model.hdf5\")\n"
   ]
  },
  {
   "cell_type": "code",
   "execution_count": null,
   "metadata": {},
   "outputs": [],
   "source": [
    "# high\n",
    "(indipendent_binary_high_history, indipendent_binary_high_model) = fit_ind_binary_model(train_data, ind_binary_labels_high_train)\n",
    "feather.write_dataframe(pd.DataFrame.from_dict(indipendent_binary_high_history.history), \"../data/indipendent_binary_high_history.feather\")\n",
    "indipendent_binary_high_model.save(\"../data/indipendent_binary_high_model.hdf5\")"
   ]
  },
  {
   "cell_type": "code",
   "execution_count": null,
   "metadata": {},
   "outputs": [],
   "source": [
    "# close\n",
    "(indipendent_binary_close_history, indipendent_binary_close_model) = fit_ind_binary_model(train_data, ind_binary_labels_close_train)\n",
    "feather.write_dataframe(pd.DataFrame.from_dict(indipendent_binary_close_history.history), \"../data/indipendent_binary_close_history.feather\")\n",
    "indipendent_binary_close_model.save(\"../data/indipendent_binary_close_model.hdf5\")\n"
   ]
  }
 ],
 "metadata": {
  "kernelspec": {
   "display_name": "Python 3",
   "language": "python",
   "name": "python3"
  },
  "language_info": {
   "codemirror_mode": {
    "name": "ipython",
    "version": 3
   },
   "file_extension": ".py",
   "mimetype": "text/x-python",
   "name": "python",
   "nbconvert_exporter": "python",
   "pygments_lexer": "ipython3",
   "version": "3.6.10"
  }
 },
 "nbformat": 4,
 "nbformat_minor": 4
}
