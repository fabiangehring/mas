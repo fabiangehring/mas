{
 "cells": [
  {
   "cell_type": "code",
   "execution_count": 60,
   "metadata": {},
   "outputs": [],
   "source": [
    "import pandas as pd\n",
    "import feather\n",
    "\n",
    "from keras.models import Sequential\n",
    "from keras.layers import Dense\n",
    "from keras.utils.np_utils import to_categorical\n"
   ]
  },
  {
   "cell_type": "code",
   "execution_count": 61,
   "metadata": {},
   "outputs": [],
   "source": [
    "n_groups_per_col = 30\n",
    "ind_categorical_data_train = pd.read_feather(\"../data/ind_categorical_data_train.feather\")\n",
    "ind_categorical_labels_train = pd.read_feather(\"../data/ind_categorical_labels_train.feather\")"
   ]
  },
  {
   "cell_type": "code",
   "execution_count": 62,
   "metadata": {},
   "outputs": [],
   "source": [
    "train_data = ind_categorical_data_train.to_numpy()\n",
    "train_label_low = to_categorical(ind_categorical_labels_train.low.to_numpy(), n_groups_per_col)\n",
    "train_label_high = to_categorical(ind_categorical_labels_train.high.to_numpy(), n_groups_per_col)\n",
    "train_label_close = to_categorical(ind_categorical_labels_train.close.to_numpy(), n_groups_per_col)"
   ]
  },
  {
   "cell_type": "code",
   "execution_count": 65,
   "metadata": {},
   "outputs": [],
   "source": [
    "def fit_ind_categorical_model(train_data, train_labels):\n",
    "    \n",
    "    model = Sequential()\n",
    "    model.add(Dense(units=512, activation='relu', input_shape=(train_data.shape[1],)))\n",
    "    model.add(Dense(units=512, activation='relu'))\n",
    "    model.add(Dense(n_groups_per_col, activation='softmax'))\n",
    "    \n",
    "    model.compile(loss='categorical_crossentropy', optimizer='adam', metrics=['accuracy'])\n",
    "\n",
    "    model.fit(train_data, train_labels, batch_size=512, epochs=20, verbose=1)"
   ]
  },
  {
   "cell_type": "code",
   "execution_count": 66,
   "metadata": {},
   "outputs": [
    {
     "name": "stdout",
     "output_type": "stream",
     "text": [
      "Epoch 1/20\n",
      "5427672/5427672 [==============================] - 35s 7us/step - loss: 3.2804 - accuracy: 0.0810\n",
      "Epoch 2/20\n",
      "5427672/5427672 [==============================] - 35s 7us/step - loss: 3.1639 - accuracy: 0.0902\n",
      "Epoch 3/20\n",
      "5427672/5427672 [==============================] - 35s 6us/step - loss: 3.1385 - accuracy: 0.0947\n",
      "Epoch 4/20\n",
      "5427672/5427672 [==============================] - 35s 7us/step - loss: 3.1043 - accuracy: 0.0996\n",
      "Epoch 5/20\n",
      "5427672/5427672 [==============================] - 35s 7us/step - loss: 3.1012 - accuracy: 0.1001\n",
      "Epoch 6/20\n",
      "5427672/5427672 [==============================] - 35s 7us/step - loss: 3.1222 - accuracy: 0.0970\n",
      "Epoch 7/20\n",
      "5427672/5427672 [==============================] - 35s 7us/step - loss: 3.0963 - accuracy: 0.1005\n",
      "Epoch 8/20\n",
      "5427672/5427672 [==============================] - 35s 6us/step - loss: 3.0971 - accuracy: 0.1003\n",
      "Epoch 9/20\n",
      "5427672/5427672 [==============================] - 35s 7us/step - loss: 3.1053 - accuracy: 0.0986\n",
      "Epoch 10/20\n",
      "5427672/5427672 [==============================] - 35s 7us/step - loss: 3.1054 - accuracy: 0.0988\n",
      "Epoch 11/20\n",
      "5427672/5427672 [==============================] - 35s 7us/step - loss: 3.0972 - accuracy: 0.0997\n",
      "Epoch 12/20\n",
      "5427672/5427672 [==============================] - 35s 7us/step - loss: 3.1256 - accuracy: 0.0967\n",
      "Epoch 13/20\n",
      "5427672/5427672 [==============================] - 35s 7us/step - loss: 3.0899 - accuracy: 0.1023\n",
      "Epoch 14/20\n",
      "5427672/5427672 [==============================] - 35s 7us/step - loss: 3.0918 - accuracy: 0.1004\n",
      "Epoch 15/20\n",
      "5427672/5427672 [==============================] - 35s 7us/step - loss: 3.0904 - accuracy: 0.1006\n",
      "Epoch 16/20\n",
      "5427672/5427672 [==============================] - 35s 7us/step - loss: 3.0868 - accuracy: 0.1013\n",
      "Epoch 17/20\n",
      "5427672/5427672 [==============================] - 35s 7us/step - loss: 3.1216 - accuracy: 0.0982\n",
      "Epoch 18/20\n",
      "5427672/5427672 [==============================] - 35s 7us/step - loss: 3.0813 - accuracy: 0.1022\n",
      "Epoch 19/20\n",
      "5427672/5427672 [==============================] - 35s 7us/step - loss: 3.1002 - accuracy: 0.1003\n",
      "Epoch 20/20\n",
      "5427672/5427672 [==============================] - 35s 7us/step - loss: 3.1143 - accuracy: 0.1007\n"
     ]
    }
   ],
   "source": [
    "indipendent_categorical_low = fit_ind_categorical_model(train_data, train_label_low)"
   ]
  },
  {
   "cell_type": "code",
   "execution_count": null,
   "metadata": {},
   "outputs": [],
   "source": []
  }
 ],
 "metadata": {
  "kernelspec": {
   "display_name": "Python 3",
   "language": "python",
   "name": "python3"
  },
  "language_info": {
   "codemirror_mode": {
    "name": "ipython",
    "version": 3
   },
   "file_extension": ".py",
   "mimetype": "text/x-python",
   "name": "python",
   "nbconvert_exporter": "python",
   "pygments_lexer": "ipython3",
   "version": "3.6.10"
  }
 },
 "nbformat": 4,
 "nbformat_minor": 4
}
