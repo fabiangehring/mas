{
 "cells": [
  {
   "cell_type": "code",
   "execution_count": 3,
   "metadata": {},
   "outputs": [
    {
     "ename": "ImportError",
     "evalue": "cannot import name 'predict_proba'",
     "output_type": "error",
     "traceback": [
      "\u001b[0;31m---------------------------------------------------------------------------\u001b[0m",
      "\u001b[0;31mImportError\u001b[0m                               Traceback (most recent call last)",
      "\u001b[0;32m<ipython-input-3-fe4922da9996>\u001b[0m in \u001b[0;36m<module>\u001b[0;34m\u001b[0m\n\u001b[1;32m      5\u001b[0m \u001b[0;32mfrom\u001b[0m \u001b[0mkeras\u001b[0m\u001b[0;34m.\u001b[0m\u001b[0mlayers\u001b[0m \u001b[0;32mimport\u001b[0m \u001b[0mDense\u001b[0m\u001b[0;34m\u001b[0m\u001b[0;34m\u001b[0m\u001b[0m\n\u001b[1;32m      6\u001b[0m \u001b[0;32mfrom\u001b[0m \u001b[0mkeras\u001b[0m\u001b[0;34m.\u001b[0m\u001b[0mutils\u001b[0m\u001b[0;34m.\u001b[0m\u001b[0mnp_utils\u001b[0m \u001b[0;32mimport\u001b[0m \u001b[0mto_categorical\u001b[0m\u001b[0;34m\u001b[0m\u001b[0;34m\u001b[0m\u001b[0m\n\u001b[0;32m----> 7\u001b[0;31m \u001b[0;32mfrom\u001b[0m \u001b[0mkeras\u001b[0m\u001b[0;34m.\u001b[0m\u001b[0mmodels\u001b[0m \u001b[0;32mimport\u001b[0m \u001b[0mload_model\u001b[0m\u001b[0;34m,\u001b[0m \u001b[0mpredict_proba\u001b[0m\u001b[0;34m\u001b[0m\u001b[0;34m\u001b[0m\u001b[0m\n\u001b[0m",
      "\u001b[0;31mImportError\u001b[0m: cannot import name 'predict_proba'"
     ]
    }
   ],
   "source": [
    "import pandas as pd\n",
    "import feather\n",
    "\n",
    "from keras.models import Sequential\n",
    "from keras.layers import Dense\n",
    "from keras.utils.np_utils import to_categorical\n",
    "from keras.models import load_model\n"
   ]
  },
  {
   "cell_type": "code",
   "execution_count": 32,
   "metadata": {},
   "outputs": [],
   "source": [
    "n_groups_per_col = 30\n",
    "data_train = pd.read_feather(\"../data/models/ind/binary/data_train.feather\")\n",
    "\n",
    "labels_low_train = pd.read_feather(\"../data/models/ind/binary/labels_low_train.feather\")\n",
    "labels_high_train = pd.read_feather(\"../data/models/ind/binary/labels_high_train.feather\")\n",
    "labels_close_train = pd.read_feather(\"../data/models/ind/binary/labels_close_train.feather\")"
   ]
  },
  {
   "cell_type": "code",
   "execution_count": 10,
   "metadata": {},
   "outputs": [],
   "source": [
    "train_data = data_train.to_numpy()\n",
    "labels_low_train = labels_low_train.to_numpy()\n",
    "labels_high_train = labels_high_train.to_numpy()\n",
    "labels_close_train = labels_close_train.to_numpy()"
   ]
  },
  {
   "cell_type": "code",
   "execution_count": 11,
   "metadata": {},
   "outputs": [],
   "source": [
    "def fit_ind_binary_model(train_data, train_labels):\n",
    "    \n",
    "    model = Sequential()\n",
    "    model.add(Dense(units=512, activation='relu', input_shape=(train_data.shape[1],)))\n",
    "    model.add(Dense(units=512, activation='relu'))\n",
    "    model.add(Dense(train_labels.shape[1], activation='sigmoid'))\n",
    "    \n",
    "    model.compile(loss='binary_crossentropy', optimizer='adam', metrics=['accuracy'])\n",
    "\n",
    "    history = model.fit(train_data, train_labels, validation_split=0.2, batch_size=512, epochs=20, verbose=1)\n",
    "    \n",
    "    return (history, model)"
   ]
  },
  {
   "cell_type": "code",
   "execution_count": 12,
   "metadata": {
    "scrolled": true
   },
   "outputs": [
    {
     "name": "stdout",
     "output_type": "stream",
     "text": [
      "Train on 4342137 samples, validate on 1085535 samples\n",
      "Epoch 1/20\n",
      "4342137/4342137 [==============================] - 35s 8us/step - loss: 0.4276 - accuracy: 0.7940 - val_loss: 0.3863 - val_accuracy: 0.8152\n",
      "Epoch 2/20\n",
      "4342137/4342137 [==============================] - 35s 8us/step - loss: 0.4061 - accuracy: 0.8048 - val_loss: 0.3990 - val_accuracy: 0.8092\n",
      "Epoch 3/20\n",
      "4342137/4342137 [==============================] - 35s 8us/step - loss: 0.3999 - accuracy: 0.8088 - val_loss: 0.3825 - val_accuracy: 0.8195\n",
      "Epoch 4/20\n",
      "4342137/4342137 [==============================] - 35s 8us/step - loss: 0.3935 - accuracy: 0.8131 - val_loss: 0.3873 - val_accuracy: 0.8164\n",
      "Epoch 5/20\n",
      "4342137/4342137 [==============================] - 35s 8us/step - loss: 0.3897 - accuracy: 0.8139 - val_loss: 0.3776 - val_accuracy: 0.8203\n",
      "Epoch 6/20\n",
      "4342137/4342137 [==============================] - 35s 8us/step - loss: 0.3893 - accuracy: 0.8134 - val_loss: 0.3862 - val_accuracy: 0.8156\n",
      "Epoch 7/20\n",
      "4342137/4342137 [==============================] - 35s 8us/step - loss: 0.3889 - accuracy: 0.8137 - val_loss: 0.3903 - val_accuracy: 0.8100\n",
      "Epoch 8/20\n",
      "4342137/4342137 [==============================] - 35s 8us/step - loss: 0.3867 - accuracy: 0.8145 - val_loss: 0.3827 - val_accuracy: 0.8200\n",
      "Epoch 9/20\n",
      "4342137/4342137 [==============================] - 35s 8us/step - loss: 0.3874 - accuracy: 0.8144 - val_loss: 0.3893 - val_accuracy: 0.8114\n",
      "Epoch 10/20\n",
      "4342137/4342137 [==============================] - 35s 8us/step - loss: 0.3851 - accuracy: 0.8152 - val_loss: 0.3737 - val_accuracy: 0.8206\n",
      "Epoch 11/20\n",
      "4342137/4342137 [==============================] - 35s 8us/step - loss: 0.3849 - accuracy: 0.8151 - val_loss: 0.3713 - val_accuracy: 0.8215\n",
      "Epoch 12/20\n",
      "4342137/4342137 [==============================] - 35s 8us/step - loss: 0.3836 - accuracy: 0.8157 - val_loss: 0.3956 - val_accuracy: 0.8062\n",
      "Epoch 13/20\n",
      "4342137/4342137 [==============================] - 35s 8us/step - loss: 0.3828 - accuracy: 0.8159 - val_loss: 0.3979 - val_accuracy: 0.8111\n",
      "Epoch 14/20\n",
      "4342137/4342137 [==============================] - 35s 8us/step - loss: 0.3820 - accuracy: 0.8163 - val_loss: 0.3986 - val_accuracy: 0.8062\n",
      "Epoch 15/20\n",
      "4342137/4342137 [==============================] - 35s 8us/step - loss: 0.3803 - accuracy: 0.8169 - val_loss: 0.3679 - val_accuracy: 0.8221\n",
      "Epoch 16/20\n",
      "4342137/4342137 [==============================] - 35s 8us/step - loss: 0.3801 - accuracy: 0.8168 - val_loss: 0.3663 - val_accuracy: 0.8226\n",
      "Epoch 17/20\n",
      "4342137/4342137 [==============================] - 35s 8us/step - loss: 0.3789 - accuracy: 0.8173 - val_loss: 0.3672 - val_accuracy: 0.8220\n",
      "Epoch 18/20\n",
      "4342137/4342137 [==============================] - 35s 8us/step - loss: 0.3781 - accuracy: 0.8176 - val_loss: 0.3899 - val_accuracy: 0.8163\n",
      "Epoch 19/20\n",
      "4342137/4342137 [==============================] - 35s 8us/step - loss: 0.3788 - accuracy: 0.8172 - val_loss: 0.3705 - val_accuracy: 0.8230\n",
      "Epoch 20/20\n",
      "4342137/4342137 [==============================] - 35s 8us/step - loss: 0.3763 - accuracy: 0.8182 - val_loss: 0.3718 - val_accuracy: 0.8218\n"
     ]
    }
   ],
   "source": [
    "# low\n",
    "(low_history, low_model) = fit_ind_binary_model(train_data, labels_low_train)\n",
    "feather.write_dataframe(pd.DataFrame.from_dict(low_history.history), \"../data/models/ind/binary/low_history.feather\")\n",
    "low_model.save(\"../data/models/ind/binary/low_model.hdf5\")\n"
   ]
  },
  {
   "cell_type": "code",
   "execution_count": 13,
   "metadata": {},
   "outputs": [
    {
     "name": "stdout",
     "output_type": "stream",
     "text": [
      "Train on 4342137 samples, validate on 1085535 samples\n",
      "Epoch 1/20\n",
      "4342137/4342137 [==============================] - 35s 8us/step - loss: 0.4279 - accuracy: 0.7947 - val_loss: 0.4065 - val_accuracy: 0.8092\n",
      "Epoch 2/20\n",
      "4342137/4342137 [==============================] - 35s 8us/step - loss: 0.4019 - accuracy: 0.8078 - val_loss: 0.3845 - val_accuracy: 0.8148\n",
      "Epoch 3/20\n",
      "4342137/4342137 [==============================] - 35s 8us/step - loss: 0.3984 - accuracy: 0.8089 - val_loss: 0.3844 - val_accuracy: 0.8185\n",
      "Epoch 4/20\n",
      "4342137/4342137 [==============================] - 35s 8us/step - loss: 0.3982 - accuracy: 0.8100 - val_loss: 0.3946 - val_accuracy: 0.8148\n",
      "Epoch 5/20\n",
      "4342137/4342137 [==============================] - 35s 8us/step - loss: 0.4027 - accuracy: 0.8095 - val_loss: 0.3917 - val_accuracy: 0.8172\n",
      "Epoch 6/20\n",
      "4342137/4342137 [==============================] - 35s 8us/step - loss: 0.3936 - accuracy: 0.8138 - val_loss: 0.3896 - val_accuracy: 0.8158\n",
      "Epoch 7/20\n",
      "4342137/4342137 [==============================] - 35s 8us/step - loss: 0.3888 - accuracy: 0.8147 - val_loss: 0.3797 - val_accuracy: 0.8195\n",
      "Epoch 8/20\n",
      "4342137/4342137 [==============================] - 35s 8us/step - loss: 0.3855 - accuracy: 0.8156 - val_loss: 0.4022 - val_accuracy: 0.8059\n",
      "Epoch 9/20\n",
      "4342137/4342137 [==============================] - 35s 8us/step - loss: 0.3848 - accuracy: 0.8156 - val_loss: 0.3722 - val_accuracy: 0.8219\n",
      "Epoch 10/20\n",
      "4342137/4342137 [==============================] - 35s 8us/step - loss: 0.3848 - accuracy: 0.8158 - val_loss: 0.3807 - val_accuracy: 0.8220\n",
      "Epoch 11/20\n",
      "4342137/4342137 [==============================] - 34s 8us/step - loss: 0.3837 - accuracy: 0.8158 - val_loss: 0.3755 - val_accuracy: 0.8221\n",
      "Epoch 12/20\n",
      "4342137/4342137 [==============================] - 35s 8us/step - loss: 0.3826 - accuracy: 0.8161 - val_loss: 0.4124 - val_accuracy: 0.8096\n",
      "Epoch 13/20\n",
      "4342137/4342137 [==============================] - 35s 8us/step - loss: 0.3828 - accuracy: 0.8160 - val_loss: 0.3675 - val_accuracy: 0.8225\n",
      "Epoch 14/20\n",
      "4342137/4342137 [==============================] - 35s 8us/step - loss: 0.3825 - accuracy: 0.8157 - val_loss: 0.3832 - val_accuracy: 0.8143\n",
      "Epoch 15/20\n",
      "4342137/4342137 [==============================] - 35s 8us/step - loss: 0.3809 - accuracy: 0.8167 - val_loss: 0.3785 - val_accuracy: 0.8168\n",
      "Epoch 16/20\n",
      "4342137/4342137 [==============================] - 35s 8us/step - loss: 0.3813 - accuracy: 0.8164 - val_loss: 0.3692 - val_accuracy: 0.8208\n",
      "Epoch 17/20\n",
      "4342137/4342137 [==============================] - 34s 8us/step - loss: 0.3792 - accuracy: 0.8171 - val_loss: 0.3764 - val_accuracy: 0.8204\n",
      "Epoch 18/20\n",
      "4342137/4342137 [==============================] - 35s 8us/step - loss: 0.3811 - accuracy: 0.8180 - val_loss: 0.3754 - val_accuracy: 0.8218\n",
      "Epoch 19/20\n",
      "4342137/4342137 [==============================] - 35s 8us/step - loss: 0.3774 - accuracy: 0.8184 - val_loss: 0.3838 - val_accuracy: 0.8154\n",
      "Epoch 20/20\n",
      "4342137/4342137 [==============================] - 35s 8us/step - loss: 0.3754 - accuracy: 0.8184 - val_loss: 0.3625 - val_accuracy: 0.8237\n"
     ]
    }
   ],
   "source": [
    "# high\n",
    "(high_history, high_model) = fit_ind_binary_model(train_data, labels_high_train)\n",
    "feather.write_dataframe(pd.DataFrame.from_dict(high_history.history), \"../data/models/ind/binary/high_history.feather\")\n",
    "high_model.save(\"../data/models/ind/binary/high_model.hdf5\")"
   ]
  },
  {
   "cell_type": "code",
   "execution_count": 14,
   "metadata": {
    "scrolled": true
   },
   "outputs": [
    {
     "name": "stdout",
     "output_type": "stream",
     "text": [
      "Train on 4342137 samples, validate on 1085535 samples\n",
      "Epoch 1/20\n",
      "4342137/4342137 [==============================] - 34s 8us/step - loss: 0.4703 - accuracy: 0.7687 - val_loss: 0.4614 - val_accuracy: 0.7725\n",
      "Epoch 2/20\n",
      "4342137/4342137 [==============================] - 35s 8us/step - loss: 0.4512 - accuracy: 0.7788 - val_loss: 0.4444 - val_accuracy: 0.7837\n",
      "Epoch 3/20\n",
      "4342137/4342137 [==============================] - 34s 8us/step - loss: 0.4484 - accuracy: 0.7805 - val_loss: 0.4427 - val_accuracy: 0.7836\n",
      "Epoch 4/20\n",
      "4342137/4342137 [==============================] - 35s 8us/step - loss: 0.4473 - accuracy: 0.7811 - val_loss: 0.4398 - val_accuracy: 0.7859\n",
      "Epoch 5/20\n",
      "4342137/4342137 [==============================] - 34s 8us/step - loss: 0.4455 - accuracy: 0.7822 - val_loss: 0.4418 - val_accuracy: 0.7852\n",
      "Epoch 6/20\n",
      "4342137/4342137 [==============================] - 35s 8us/step - loss: 0.4448 - accuracy: 0.7827 - val_loss: 0.4398 - val_accuracy: 0.7860\n",
      "Epoch 7/20\n",
      "4342137/4342137 [==============================] - 35s 8us/step - loss: 0.4438 - accuracy: 0.7833 - val_loss: 0.4374 - val_accuracy: 0.7876\n",
      "Epoch 8/20\n",
      "4342137/4342137 [==============================] - 34s 8us/step - loss: 0.4435 - accuracy: 0.7834 - val_loss: 0.4569 - val_accuracy: 0.7726\n",
      "Epoch 9/20\n",
      "4342137/4342137 [==============================] - 35s 8us/step - loss: 0.4429 - accuracy: 0.7838 - val_loss: 0.4401 - val_accuracy: 0.7854\n",
      "Epoch 10/20\n",
      "4342137/4342137 [==============================] - 34s 8us/step - loss: 0.4425 - accuracy: 0.7842 - val_loss: 0.4436 - val_accuracy: 0.7836\n",
      "Epoch 11/20\n",
      "4342137/4342137 [==============================] - 35s 8us/step - loss: 0.4426 - accuracy: 0.7841 - val_loss: 0.4427 - val_accuracy: 0.7836\n",
      "Epoch 12/20\n",
      "4342137/4342137 [==============================] - 34s 8us/step - loss: 0.4420 - accuracy: 0.7844 - val_loss: 0.4390 - val_accuracy: 0.7863\n",
      "Epoch 13/20\n",
      "4342137/4342137 [==============================] - 35s 8us/step - loss: 0.4416 - accuracy: 0.7847 - val_loss: 0.4389 - val_accuracy: 0.7871\n",
      "Epoch 14/20\n",
      "4342137/4342137 [==============================] - 34s 8us/step - loss: 0.4417 - accuracy: 0.7846 - val_loss: 0.4390 - val_accuracy: 0.7862\n",
      "Epoch 15/20\n",
      "4342137/4342137 [==============================] - 34s 8us/step - loss: 0.4415 - accuracy: 0.7848 - val_loss: 0.4394 - val_accuracy: 0.7859\n",
      "Epoch 16/20\n",
      "4342137/4342137 [==============================] - 34s 8us/step - loss: 0.4410 - accuracy: 0.7851 - val_loss: 0.4382 - val_accuracy: 0.7870\n",
      "Epoch 17/20\n",
      "4342137/4342137 [==============================] - 35s 8us/step - loss: 0.4407 - accuracy: 0.7853 - val_loss: 0.4436 - val_accuracy: 0.7830\n",
      "Epoch 18/20\n",
      "4342137/4342137 [==============================] - 34s 8us/step - loss: 0.4407 - accuracy: 0.7853 - val_loss: 0.4366 - val_accuracy: 0.7881\n",
      "Epoch 19/20\n",
      "4342137/4342137 [==============================] - 35s 8us/step - loss: 0.4407 - accuracy: 0.7853 - val_loss: 0.4390 - val_accuracy: 0.7879\n",
      "Epoch 20/20\n",
      "4342137/4342137 [==============================] - 34s 8us/step - loss: 0.4403 - accuracy: 0.7856 - val_loss: 0.4481 - val_accuracy: 0.7794\n"
     ]
    }
   ],
   "source": [
    "# close\n",
    "(close_history, close_model) = fit_ind_binary_model(train_data, labels_close_train)\n",
    "feather.write_dataframe(pd.DataFrame.from_dict(close_history.history), \"../data/models/ind/binary/history.feather\")\n",
    "close_model.save(\"../data/models/ind/binary/close_model.hdf5\")\n"
   ]
  },
  {
   "cell_type": "code",
   "execution_count": null,
   "metadata": {},
   "outputs": [],
   "source": [
    "### Predict\n",
    "\n",
    "# low_model = load_model(\"../data/models/ind/binary/low_model.hdf5\")\n",
    "# high_model = load_model(\"../data/models/ind/binary/high_model.hdf5\")\n",
    "# close_model = load_model(\"../data/models/ind/binary/close_model.hdf5\")"
   ]
  },
  {
   "cell_type": "code",
   "execution_count": 29,
   "metadata": {},
   "outputs": [],
   "source": [
    "data_test = pd.read_feather(\"../data/ind_binary_data_test.feather\").to_numpy()\n",
    "\n",
    "low_pred_prob = low_model.predict_proba(data_test, batch_size = 512)\n",
    "feather.write_dataframe(pd.DataFrame(low_pred_prob), \"../data/models/ind/binary/low_pred_prob.feather\", compression='uncompressed')\n",
    "low_pred_classes = low_model.predict_classes(data_test, batch_size = 512)\n",
    "feather.write_dataframe(pd.DataFrame(low_pred_classes), \"../data/models/ind/binary/low_pred_classes.feather\", compression='uncompressed')\n",
    "\n",
    "high_pred_prob = high_model.predict_proba(data_test, batch_size = 512)\n",
    "feather.write_dataframe(pd.DataFrame(high_pred_prob), \"../data/models/ind/binary/high_pred_prob.feather\", compression='uncompressed')\n",
    "high_pred_classes = high_model.predict_classes(data_test, batch_size = 512)\n",
    "feather.write_dataframe(pd.DataFrame(high_pred_classes), \"../data/models/ind/binary/high_pred_classes.feather\", compression='uncompressed')\n",
    "\n",
    "close_pred_prob = close_model.predict_proba(data_test, batch_size = 512)\n",
    "feather.write_dataframe(pd.DataFrame(close_pred_prob), \"../data/models/ind/binary/close_pred_prob.feather\", compression='uncompressed')\n",
    "close_pred_classes = close_model.predict_classes(data_test, batch_size = 512)\n",
    "feather.write_dataframe(pd.DataFrame(close_pred_classes), \"../data/models/ind/binary/close_pred_classes.feather\", compression='uncompressed')\n"
   ]
  },
  {
   "cell_type": "code",
   "execution_count": null,
   "metadata": {},
   "outputs": [],
   "source": []
  }
 ],
 "metadata": {
  "kernelspec": {
   "display_name": "Python 3",
   "language": "python",
   "name": "python3"
  },
  "language_info": {
   "codemirror_mode": {
    "name": "ipython",
    "version": 3
   },
   "file_extension": ".py",
   "mimetype": "text/x-python",
   "name": "python",
   "nbconvert_exporter": "python",
   "pygments_lexer": "ipython3",
   "version": "3.6.10"
  }
 },
 "nbformat": 4,
 "nbformat_minor": 4
}
